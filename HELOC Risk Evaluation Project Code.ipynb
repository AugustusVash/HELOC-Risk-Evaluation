{
 "cells": [
  {
   "cell_type": "markdown",
   "id": "29e3275b",
   "metadata": {},
   "source": [
    "# HELOC Project"
   ]
  },
  {
   "cell_type": "markdown",
   "id": "f2c8e959",
   "metadata": {},
   "source": [
    "---"
   ]
  },
  {
   "cell_type": "markdown",
   "id": "b888c951",
   "metadata": {},
   "source": [
    "## Get the data"
   ]
  },
  {
   "cell_type": "code",
   "execution_count": 1,
   "id": "d808426a",
   "metadata": {},
   "outputs": [],
   "source": [
    "import pandas as pd\n",
    "import numpy as np\n",
    "import matplotlib.pyplot as plt\n",
    "import pickle           "
   ]
  },
  {
   "cell_type": "code",
   "execution_count": 2,
   "id": "7dca2645",
   "metadata": {},
   "outputs": [],
   "source": [
    "df = pd.read_csv(\"heloc_dataset_v1.csv\")"
   ]
  },
  {
   "cell_type": "code",
   "execution_count": 3,
   "id": "4cca3bb9",
   "metadata": {},
   "outputs": [
    {
     "data": {
      "text/html": [
       "<div>\n",
       "<style scoped>\n",
       "    .dataframe tbody tr th:only-of-type {\n",
       "        vertical-align: middle;\n",
       "    }\n",
       "\n",
       "    .dataframe tbody tr th {\n",
       "        vertical-align: top;\n",
       "    }\n",
       "\n",
       "    .dataframe thead th {\n",
       "        text-align: right;\n",
       "    }\n",
       "</style>\n",
       "<table border=\"1\" class=\"dataframe\">\n",
       "  <thead>\n",
       "    <tr style=\"text-align: right;\">\n",
       "      <th></th>\n",
       "      <th>ExternalRiskEstimate</th>\n",
       "      <th>MSinceOldestTradeOpen</th>\n",
       "      <th>MSinceMostRecentTradeOpen</th>\n",
       "      <th>AverageMInFile</th>\n",
       "      <th>NumSatisfactoryTrades</th>\n",
       "      <th>NumTrades60Ever2DerogPubRec</th>\n",
       "      <th>NumTrades90Ever2DerogPubRec</th>\n",
       "      <th>PercentTradesNeverDelq</th>\n",
       "      <th>MSinceMostRecentDelq</th>\n",
       "      <th>MaxDelq2PublicRecLast12M</th>\n",
       "      <th>...</th>\n",
       "      <th>PercentInstallTrades</th>\n",
       "      <th>MSinceMostRecentInqexcl7days</th>\n",
       "      <th>NumInqLast6M</th>\n",
       "      <th>NumInqLast6Mexcl7days</th>\n",
       "      <th>NetFractionRevolvingBurden</th>\n",
       "      <th>NetFractionInstallBurden</th>\n",
       "      <th>NumRevolvingTradesWBalance</th>\n",
       "      <th>NumInstallTradesWBalance</th>\n",
       "      <th>NumBank2NatlTradesWHighUtilization</th>\n",
       "      <th>PercentTradesWBalance</th>\n",
       "    </tr>\n",
       "  </thead>\n",
       "  <tbody>\n",
       "    <tr>\n",
       "      <th>count</th>\n",
       "      <td>10459.000000</td>\n",
       "      <td>10459.000000</td>\n",
       "      <td>10459.000000</td>\n",
       "      <td>10459.000000</td>\n",
       "      <td>10459.000000</td>\n",
       "      <td>10459.000000</td>\n",
       "      <td>10459.000000</td>\n",
       "      <td>10459.000000</td>\n",
       "      <td>10459.000000</td>\n",
       "      <td>10459.000000</td>\n",
       "      <td>...</td>\n",
       "      <td>10459.000000</td>\n",
       "      <td>10459.000000</td>\n",
       "      <td>10459.000000</td>\n",
       "      <td>10459.000000</td>\n",
       "      <td>10459.000000</td>\n",
       "      <td>10459.000000</td>\n",
       "      <td>10459.000000</td>\n",
       "      <td>10459.000000</td>\n",
       "      <td>10459.000000</td>\n",
       "      <td>10459.000000</td>\n",
       "    </tr>\n",
       "    <tr>\n",
       "      <th>mean</th>\n",
       "      <td>67.425758</td>\n",
       "      <td>184.205373</td>\n",
       "      <td>8.543455</td>\n",
       "      <td>73.843293</td>\n",
       "      <td>19.428052</td>\n",
       "      <td>0.042738</td>\n",
       "      <td>-0.142843</td>\n",
       "      <td>86.661536</td>\n",
       "      <td>6.762406</td>\n",
       "      <td>4.928291</td>\n",
       "      <td>...</td>\n",
       "      <td>32.166460</td>\n",
       "      <td>-0.325366</td>\n",
       "      <td>0.868152</td>\n",
       "      <td>0.812602</td>\n",
       "      <td>31.629888</td>\n",
       "      <td>39.158906</td>\n",
       "      <td>3.185008</td>\n",
       "      <td>0.976097</td>\n",
       "      <td>0.018071</td>\n",
       "      <td>62.079166</td>\n",
       "    </tr>\n",
       "    <tr>\n",
       "      <th>std</th>\n",
       "      <td>21.121621</td>\n",
       "      <td>109.683816</td>\n",
       "      <td>13.301745</td>\n",
       "      <td>38.782803</td>\n",
       "      <td>13.004327</td>\n",
       "      <td>2.513910</td>\n",
       "      <td>2.367397</td>\n",
       "      <td>25.999584</td>\n",
       "      <td>20.501250</td>\n",
       "      <td>3.756275</td>\n",
       "      <td>...</td>\n",
       "      <td>20.128634</td>\n",
       "      <td>6.067556</td>\n",
       "      <td>3.179304</td>\n",
       "      <td>3.143698</td>\n",
       "      <td>30.060140</td>\n",
       "      <td>42.101601</td>\n",
       "      <td>4.413173</td>\n",
       "      <td>4.060995</td>\n",
       "      <td>3.358135</td>\n",
       "      <td>27.711565</td>\n",
       "    </tr>\n",
       "    <tr>\n",
       "      <th>min</th>\n",
       "      <td>-9.000000</td>\n",
       "      <td>-9.000000</td>\n",
       "      <td>-9.000000</td>\n",
       "      <td>-9.000000</td>\n",
       "      <td>-9.000000</td>\n",
       "      <td>-9.000000</td>\n",
       "      <td>-9.000000</td>\n",
       "      <td>-9.000000</td>\n",
       "      <td>-9.000000</td>\n",
       "      <td>-9.000000</td>\n",
       "      <td>...</td>\n",
       "      <td>-9.000000</td>\n",
       "      <td>-9.000000</td>\n",
       "      <td>-9.000000</td>\n",
       "      <td>-9.000000</td>\n",
       "      <td>-9.000000</td>\n",
       "      <td>-9.000000</td>\n",
       "      <td>-9.000000</td>\n",
       "      <td>-9.000000</td>\n",
       "      <td>-9.000000</td>\n",
       "      <td>-9.000000</td>\n",
       "    </tr>\n",
       "    <tr>\n",
       "      <th>25%</th>\n",
       "      <td>63.000000</td>\n",
       "      <td>118.000000</td>\n",
       "      <td>3.000000</td>\n",
       "      <td>52.000000</td>\n",
       "      <td>12.000000</td>\n",
       "      <td>0.000000</td>\n",
       "      <td>0.000000</td>\n",
       "      <td>87.000000</td>\n",
       "      <td>-7.000000</td>\n",
       "      <td>4.000000</td>\n",
       "      <td>...</td>\n",
       "      <td>20.000000</td>\n",
       "      <td>-7.000000</td>\n",
       "      <td>0.000000</td>\n",
       "      <td>0.000000</td>\n",
       "      <td>5.000000</td>\n",
       "      <td>-8.000000</td>\n",
       "      <td>2.000000</td>\n",
       "      <td>1.000000</td>\n",
       "      <td>0.000000</td>\n",
       "      <td>47.000000</td>\n",
       "    </tr>\n",
       "    <tr>\n",
       "      <th>50%</th>\n",
       "      <td>71.000000</td>\n",
       "      <td>178.000000</td>\n",
       "      <td>5.000000</td>\n",
       "      <td>74.000000</td>\n",
       "      <td>19.000000</td>\n",
       "      <td>0.000000</td>\n",
       "      <td>0.000000</td>\n",
       "      <td>96.000000</td>\n",
       "      <td>-7.000000</td>\n",
       "      <td>6.000000</td>\n",
       "      <td>...</td>\n",
       "      <td>31.000000</td>\n",
       "      <td>0.000000</td>\n",
       "      <td>1.000000</td>\n",
       "      <td>1.000000</td>\n",
       "      <td>25.000000</td>\n",
       "      <td>47.000000</td>\n",
       "      <td>3.000000</td>\n",
       "      <td>2.000000</td>\n",
       "      <td>0.000000</td>\n",
       "      <td>67.000000</td>\n",
       "    </tr>\n",
       "    <tr>\n",
       "      <th>75%</th>\n",
       "      <td>79.000000</td>\n",
       "      <td>249.500000</td>\n",
       "      <td>11.000000</td>\n",
       "      <td>95.000000</td>\n",
       "      <td>27.000000</td>\n",
       "      <td>1.000000</td>\n",
       "      <td>0.000000</td>\n",
       "      <td>100.000000</td>\n",
       "      <td>14.000000</td>\n",
       "      <td>7.000000</td>\n",
       "      <td>...</td>\n",
       "      <td>44.000000</td>\n",
       "      <td>1.000000</td>\n",
       "      <td>2.000000</td>\n",
       "      <td>2.000000</td>\n",
       "      <td>54.000000</td>\n",
       "      <td>79.000000</td>\n",
       "      <td>5.000000</td>\n",
       "      <td>3.000000</td>\n",
       "      <td>1.000000</td>\n",
       "      <td>82.000000</td>\n",
       "    </tr>\n",
       "    <tr>\n",
       "      <th>max</th>\n",
       "      <td>94.000000</td>\n",
       "      <td>803.000000</td>\n",
       "      <td>383.000000</td>\n",
       "      <td>383.000000</td>\n",
       "      <td>79.000000</td>\n",
       "      <td>19.000000</td>\n",
       "      <td>19.000000</td>\n",
       "      <td>100.000000</td>\n",
       "      <td>83.000000</td>\n",
       "      <td>9.000000</td>\n",
       "      <td>...</td>\n",
       "      <td>100.000000</td>\n",
       "      <td>24.000000</td>\n",
       "      <td>66.000000</td>\n",
       "      <td>66.000000</td>\n",
       "      <td>232.000000</td>\n",
       "      <td>471.000000</td>\n",
       "      <td>32.000000</td>\n",
       "      <td>23.000000</td>\n",
       "      <td>18.000000</td>\n",
       "      <td>100.000000</td>\n",
       "    </tr>\n",
       "  </tbody>\n",
       "</table>\n",
       "<p>8 rows × 23 columns</p>\n",
       "</div>"
      ],
      "text/plain": [
       "       ExternalRiskEstimate  MSinceOldestTradeOpen  MSinceMostRecentTradeOpen  \\\n",
       "count          10459.000000           10459.000000               10459.000000   \n",
       "mean              67.425758             184.205373                   8.543455   \n",
       "std               21.121621             109.683816                  13.301745   \n",
       "min               -9.000000              -9.000000                  -9.000000   \n",
       "25%               63.000000             118.000000                   3.000000   \n",
       "50%               71.000000             178.000000                   5.000000   \n",
       "75%               79.000000             249.500000                  11.000000   \n",
       "max               94.000000             803.000000                 383.000000   \n",
       "\n",
       "       AverageMInFile  NumSatisfactoryTrades  NumTrades60Ever2DerogPubRec  \\\n",
       "count    10459.000000           10459.000000                 10459.000000   \n",
       "mean        73.843293              19.428052                     0.042738   \n",
       "std         38.782803              13.004327                     2.513910   \n",
       "min         -9.000000              -9.000000                    -9.000000   \n",
       "25%         52.000000              12.000000                     0.000000   \n",
       "50%         74.000000              19.000000                     0.000000   \n",
       "75%         95.000000              27.000000                     1.000000   \n",
       "max        383.000000              79.000000                    19.000000   \n",
       "\n",
       "       NumTrades90Ever2DerogPubRec  PercentTradesNeverDelq  \\\n",
       "count                 10459.000000            10459.000000   \n",
       "mean                     -0.142843               86.661536   \n",
       "std                       2.367397               25.999584   \n",
       "min                      -9.000000               -9.000000   \n",
       "25%                       0.000000               87.000000   \n",
       "50%                       0.000000               96.000000   \n",
       "75%                       0.000000              100.000000   \n",
       "max                      19.000000              100.000000   \n",
       "\n",
       "       MSinceMostRecentDelq  MaxDelq2PublicRecLast12M  ...  \\\n",
       "count          10459.000000              10459.000000  ...   \n",
       "mean               6.762406                  4.928291  ...   \n",
       "std               20.501250                  3.756275  ...   \n",
       "min               -9.000000                 -9.000000  ...   \n",
       "25%               -7.000000                  4.000000  ...   \n",
       "50%               -7.000000                  6.000000  ...   \n",
       "75%               14.000000                  7.000000  ...   \n",
       "max               83.000000                  9.000000  ...   \n",
       "\n",
       "       PercentInstallTrades  MSinceMostRecentInqexcl7days  NumInqLast6M  \\\n",
       "count          10459.000000                  10459.000000  10459.000000   \n",
       "mean              32.166460                     -0.325366      0.868152   \n",
       "std               20.128634                      6.067556      3.179304   \n",
       "min               -9.000000                     -9.000000     -9.000000   \n",
       "25%               20.000000                     -7.000000      0.000000   \n",
       "50%               31.000000                      0.000000      1.000000   \n",
       "75%               44.000000                      1.000000      2.000000   \n",
       "max              100.000000                     24.000000     66.000000   \n",
       "\n",
       "       NumInqLast6Mexcl7days  NetFractionRevolvingBurden  \\\n",
       "count           10459.000000                10459.000000   \n",
       "mean                0.812602                   31.629888   \n",
       "std                 3.143698                   30.060140   \n",
       "min                -9.000000                   -9.000000   \n",
       "25%                 0.000000                    5.000000   \n",
       "50%                 1.000000                   25.000000   \n",
       "75%                 2.000000                   54.000000   \n",
       "max                66.000000                  232.000000   \n",
       "\n",
       "       NetFractionInstallBurden  NumRevolvingTradesWBalance  \\\n",
       "count              10459.000000                10459.000000   \n",
       "mean                  39.158906                    3.185008   \n",
       "std                   42.101601                    4.413173   \n",
       "min                   -9.000000                   -9.000000   \n",
       "25%                   -8.000000                    2.000000   \n",
       "50%                   47.000000                    3.000000   \n",
       "75%                   79.000000                    5.000000   \n",
       "max                  471.000000                   32.000000   \n",
       "\n",
       "       NumInstallTradesWBalance  NumBank2NatlTradesWHighUtilization  \\\n",
       "count              10459.000000                        10459.000000   \n",
       "mean                   0.976097                            0.018071   \n",
       "std                    4.060995                            3.358135   \n",
       "min                   -9.000000                           -9.000000   \n",
       "25%                    1.000000                            0.000000   \n",
       "50%                    2.000000                            0.000000   \n",
       "75%                    3.000000                            1.000000   \n",
       "max                   23.000000                           18.000000   \n",
       "\n",
       "       PercentTradesWBalance  \n",
       "count           10459.000000  \n",
       "mean               62.079166  \n",
       "std                27.711565  \n",
       "min                -9.000000  \n",
       "25%                47.000000  \n",
       "50%                67.000000  \n",
       "75%                82.000000  \n",
       "max               100.000000  \n",
       "\n",
       "[8 rows x 23 columns]"
      ]
     },
     "execution_count": 3,
     "metadata": {},
     "output_type": "execute_result"
    }
   ],
   "source": [
    "df.describe()"
   ]
  },
  {
   "cell_type": "code",
   "execution_count": 4,
   "id": "2e283ad1",
   "metadata": {},
   "outputs": [
    {
     "name": "stdout",
     "output_type": "stream",
     "text": [
      "<class 'pandas.core.frame.DataFrame'>\n",
      "RangeIndex: 10459 entries, 0 to 10458\n",
      "Data columns (total 24 columns):\n",
      " #   Column                              Non-Null Count  Dtype \n",
      "---  ------                              --------------  ----- \n",
      " 0   RiskPerformance                     10459 non-null  object\n",
      " 1   ExternalRiskEstimate                10459 non-null  int64 \n",
      " 2   MSinceOldestTradeOpen               10459 non-null  int64 \n",
      " 3   MSinceMostRecentTradeOpen           10459 non-null  int64 \n",
      " 4   AverageMInFile                      10459 non-null  int64 \n",
      " 5   NumSatisfactoryTrades               10459 non-null  int64 \n",
      " 6   NumTrades60Ever2DerogPubRec         10459 non-null  int64 \n",
      " 7   NumTrades90Ever2DerogPubRec         10459 non-null  int64 \n",
      " 8   PercentTradesNeverDelq              10459 non-null  int64 \n",
      " 9   MSinceMostRecentDelq                10459 non-null  int64 \n",
      " 10  MaxDelq2PublicRecLast12M            10459 non-null  int64 \n",
      " 11  MaxDelqEver                         10459 non-null  int64 \n",
      " 12  NumTotalTrades                      10459 non-null  int64 \n",
      " 13  NumTradesOpeninLast12M              10459 non-null  int64 \n",
      " 14  PercentInstallTrades                10459 non-null  int64 \n",
      " 15  MSinceMostRecentInqexcl7days        10459 non-null  int64 \n",
      " 16  NumInqLast6M                        10459 non-null  int64 \n",
      " 17  NumInqLast6Mexcl7days               10459 non-null  int64 \n",
      " 18  NetFractionRevolvingBurden          10459 non-null  int64 \n",
      " 19  NetFractionInstallBurden            10459 non-null  int64 \n",
      " 20  NumRevolvingTradesWBalance          10459 non-null  int64 \n",
      " 21  NumInstallTradesWBalance            10459 non-null  int64 \n",
      " 22  NumBank2NatlTradesWHighUtilization  10459 non-null  int64 \n",
      " 23  PercentTradesWBalance               10459 non-null  int64 \n",
      "dtypes: int64(23), object(1)\n",
      "memory usage: 1.9+ MB\n"
     ]
    }
   ],
   "source": [
    "df.info()"
   ]
  },
  {
   "cell_type": "markdown",
   "id": "a1a5508f",
   "metadata": {},
   "source": [
    "---"
   ]
  },
  {
   "cell_type": "markdown",
   "id": "3401c88f",
   "metadata": {},
   "source": [
    "## Check null values"
   ]
  },
  {
   "cell_type": "code",
   "execution_count": 5,
   "id": "675a6dba",
   "metadata": {},
   "outputs": [
    {
     "name": "stdout",
     "output_type": "stream",
     "text": [
      "n_cols_with_missing_values: 0\n",
      "n_rows_with_missing_values: 0\n"
     ]
    }
   ],
   "source": [
    "n_cols_with_missing_values = df.isnull().any(axis=0).sum()\n",
    "n_rows_with_missing_values = df.isnull().any(axis=1).sum()\n",
    "\n",
    "print('n_cols_with_missing_values: '+str(n_cols_with_missing_values))\n",
    "print('n_rows_with_missing_values: '+str(n_rows_with_missing_values))"
   ]
  },
  {
   "cell_type": "markdown",
   "id": "9803a7e6",
   "metadata": {},
   "source": [
    "---"
   ]
  },
  {
   "cell_type": "markdown",
   "id": "a0d40ec5",
   "metadata": {},
   "source": [
    "## Check Special Values `-7`, `-8`, `-9`"
   ]
  },
  {
   "cell_type": "markdown",
   "id": "82a991fd",
   "metadata": {},
   "source": [
    "### **Special Values**\n",
    "\n",
    "Special values are assigned to variables that have different reasons why a value is not available.\n",
    "\n",
    "* -9 No Bureau Record or No Investigation\n",
    "  \n",
    "    * No record means no credit history/score information is available.\n",
    "\n",
    "* -8 No Usable/Valid Accounts Trades or Inquiries\n",
    "    \n",
    "    * Usable or valid for Accounts/Trades means inactive, or very old.\n",
    "    \n",
    "    * For inquiries, this can mean that the account has no “hard” inquiries, i.e. you are not actively searching for credit. However, if your bank pulled your credit score to send you a pre-approved credit card, the bank’s inquiry is deemed not valid.\n",
    "\n",
    "* -7 Condition not Met (e.g. No Inquiries, No Delinquencies)\n",
    "\n",
    "    * For example, a record that has no match at the bureau will return a -9. However, another record with no activity in the last year will be deemed “not valid” but has a match at the bureau. This record will then be assigned a special value of -8. “Condition not met,” which implies that the feature/variable searched for a certain event’s occurrence in the data, and that event was not found. For example: number of inquiries in the last 12 months, if the record had the last inquiry 14 months ago, then the condition of “inquiry in the last 12 months” is not satisfied. However, in order to distinguish this record from someone who has never had an inquiry (who will get a value of 0), we assign a special value of -7. We have seen that the risk profiles of the -7, -8 and -9s can be considerably different, hence the assignment of different special values."
   ]
  },
  {
   "cell_type": "markdown",
   "id": "18979609",
   "metadata": {},
   "source": [
    "### First let's check how many missing values are in each columns"
   ]
  },
  {
   "cell_type": "code",
   "execution_count": 6,
   "id": "b6ae7659",
   "metadata": {},
   "outputs": [
    {
     "data": {
      "text/html": [
       "<div>\n",
       "<style scoped>\n",
       "    .dataframe tbody tr th:only-of-type {\n",
       "        vertical-align: middle;\n",
       "    }\n",
       "\n",
       "    .dataframe tbody tr th {\n",
       "        vertical-align: top;\n",
       "    }\n",
       "\n",
       "    .dataframe thead th {\n",
       "        text-align: right;\n",
       "    }\n",
       "</style>\n",
       "<table border=\"1\" class=\"dataframe\">\n",
       "  <thead>\n",
       "    <tr style=\"text-align: right;\">\n",
       "      <th></th>\n",
       "      <th>-7</th>\n",
       "      <th>-8</th>\n",
       "      <th>-9</th>\n",
       "    </tr>\n",
       "  </thead>\n",
       "  <tbody>\n",
       "    <tr>\n",
       "      <th>RiskPerformance</th>\n",
       "      <td>0</td>\n",
       "      <td>0</td>\n",
       "      <td>0</td>\n",
       "    </tr>\n",
       "    <tr>\n",
       "      <th>ExternalRiskEstimate</th>\n",
       "      <td>0</td>\n",
       "      <td>0</td>\n",
       "      <td>598</td>\n",
       "    </tr>\n",
       "    <tr>\n",
       "      <th>MSinceOldestTradeOpen</th>\n",
       "      <td>0</td>\n",
       "      <td>239</td>\n",
       "      <td>588</td>\n",
       "    </tr>\n",
       "    <tr>\n",
       "      <th>MSinceMostRecentTradeOpen</th>\n",
       "      <td>0</td>\n",
       "      <td>0</td>\n",
       "      <td>588</td>\n",
       "    </tr>\n",
       "    <tr>\n",
       "      <th>AverageMInFile</th>\n",
       "      <td>0</td>\n",
       "      <td>0</td>\n",
       "      <td>588</td>\n",
       "    </tr>\n",
       "    <tr>\n",
       "      <th>NumSatisfactoryTrades</th>\n",
       "      <td>0</td>\n",
       "      <td>0</td>\n",
       "      <td>588</td>\n",
       "    </tr>\n",
       "    <tr>\n",
       "      <th>NumTrades60Ever2DerogPubRec</th>\n",
       "      <td>0</td>\n",
       "      <td>0</td>\n",
       "      <td>588</td>\n",
       "    </tr>\n",
       "    <tr>\n",
       "      <th>NumTrades90Ever2DerogPubRec</th>\n",
       "      <td>0</td>\n",
       "      <td>0</td>\n",
       "      <td>588</td>\n",
       "    </tr>\n",
       "    <tr>\n",
       "      <th>PercentTradesNeverDelq</th>\n",
       "      <td>0</td>\n",
       "      <td>0</td>\n",
       "      <td>588</td>\n",
       "    </tr>\n",
       "    <tr>\n",
       "      <th>MSinceMostRecentDelq</th>\n",
       "      <td>4664</td>\n",
       "      <td>176</td>\n",
       "      <td>588</td>\n",
       "    </tr>\n",
       "    <tr>\n",
       "      <th>MaxDelq2PublicRecLast12M</th>\n",
       "      <td>0</td>\n",
       "      <td>0</td>\n",
       "      <td>588</td>\n",
       "    </tr>\n",
       "    <tr>\n",
       "      <th>MaxDelqEver</th>\n",
       "      <td>0</td>\n",
       "      <td>0</td>\n",
       "      <td>588</td>\n",
       "    </tr>\n",
       "    <tr>\n",
       "      <th>NumTotalTrades</th>\n",
       "      <td>0</td>\n",
       "      <td>0</td>\n",
       "      <td>588</td>\n",
       "    </tr>\n",
       "    <tr>\n",
       "      <th>NumTradesOpeninLast12M</th>\n",
       "      <td>0</td>\n",
       "      <td>0</td>\n",
       "      <td>588</td>\n",
       "    </tr>\n",
       "    <tr>\n",
       "      <th>PercentInstallTrades</th>\n",
       "      <td>0</td>\n",
       "      <td>0</td>\n",
       "      <td>588</td>\n",
       "    </tr>\n",
       "    <tr>\n",
       "      <th>MSinceMostRecentInqexcl7days</th>\n",
       "      <td>1855</td>\n",
       "      <td>476</td>\n",
       "      <td>588</td>\n",
       "    </tr>\n",
       "    <tr>\n",
       "      <th>NumInqLast6M</th>\n",
       "      <td>0</td>\n",
       "      <td>0</td>\n",
       "      <td>588</td>\n",
       "    </tr>\n",
       "    <tr>\n",
       "      <th>NumInqLast6Mexcl7days</th>\n",
       "      <td>0</td>\n",
       "      <td>0</td>\n",
       "      <td>588</td>\n",
       "    </tr>\n",
       "    <tr>\n",
       "      <th>NetFractionRevolvingBurden</th>\n",
       "      <td>0</td>\n",
       "      <td>186</td>\n",
       "      <td>588</td>\n",
       "    </tr>\n",
       "    <tr>\n",
       "      <th>NetFractionInstallBurden</th>\n",
       "      <td>0</td>\n",
       "      <td>3419</td>\n",
       "      <td>588</td>\n",
       "    </tr>\n",
       "    <tr>\n",
       "      <th>NumRevolvingTradesWBalance</th>\n",
       "      <td>0</td>\n",
       "      <td>156</td>\n",
       "      <td>588</td>\n",
       "    </tr>\n",
       "    <tr>\n",
       "      <th>NumInstallTradesWBalance</th>\n",
       "      <td>0</td>\n",
       "      <td>861</td>\n",
       "      <td>588</td>\n",
       "    </tr>\n",
       "    <tr>\n",
       "      <th>NumBank2NatlTradesWHighUtilization</th>\n",
       "      <td>0</td>\n",
       "      <td>583</td>\n",
       "      <td>588</td>\n",
       "    </tr>\n",
       "    <tr>\n",
       "      <th>PercentTradesWBalance</th>\n",
       "      <td>0</td>\n",
       "      <td>18</td>\n",
       "      <td>588</td>\n",
       "    </tr>\n",
       "  </tbody>\n",
       "</table>\n",
       "</div>"
      ],
      "text/plain": [
       "                                      -7    -8   -9\n",
       "RiskPerformance                        0     0    0\n",
       "ExternalRiskEstimate                   0     0  598\n",
       "MSinceOldestTradeOpen                  0   239  588\n",
       "MSinceMostRecentTradeOpen              0     0  588\n",
       "AverageMInFile                         0     0  588\n",
       "NumSatisfactoryTrades                  0     0  588\n",
       "NumTrades60Ever2DerogPubRec            0     0  588\n",
       "NumTrades90Ever2DerogPubRec            0     0  588\n",
       "PercentTradesNeverDelq                 0     0  588\n",
       "MSinceMostRecentDelq                4664   176  588\n",
       "MaxDelq2PublicRecLast12M               0     0  588\n",
       "MaxDelqEver                            0     0  588\n",
       "NumTotalTrades                         0     0  588\n",
       "NumTradesOpeninLast12M                 0     0  588\n",
       "PercentInstallTrades                   0     0  588\n",
       "MSinceMostRecentInqexcl7days        1855   476  588\n",
       "NumInqLast6M                           0     0  588\n",
       "NumInqLast6Mexcl7days                  0     0  588\n",
       "NetFractionRevolvingBurden             0   186  588\n",
       "NetFractionInstallBurden               0  3419  588\n",
       "NumRevolvingTradesWBalance             0   156  588\n",
       "NumInstallTradesWBalance               0   861  588\n",
       "NumBank2NatlTradesWHighUtilization     0   583  588\n",
       "PercentTradesWBalance                  0    18  588"
      ]
     },
     "execution_count": 6,
     "metadata": {},
     "output_type": "execute_result"
    }
   ],
   "source": [
    "df_count_missing = pd.concat([(df==-7).sum(), (df==-8).sum(), (df==-9).sum()], axis=1)\n",
    "df_count_missing.columns = [-7,-8,-9]\n",
    "df_count_missing"
   ]
  },
  {
   "cell_type": "markdown",
   "id": "911b16aa",
   "metadata": {},
   "source": [
    "---"
   ]
  },
  {
   "cell_type": "markdown",
   "id": "7c0198fa",
   "metadata": {},
   "source": [
    "## Preprocessing"
   ]
  },
  {
   "cell_type": "markdown",
   "id": "683c2eb5",
   "metadata": {},
   "source": [
    "### Let's first drop the observations of -9, that is, the feature *ExternalRiskEstimate* is missing"
   ]
  },
  {
   "cell_type": "code",
   "execution_count": 7,
   "id": "1033b6ae",
   "metadata": {},
   "outputs": [
    {
     "data": {
      "text/plain": [
       "0"
      ]
     },
     "execution_count": 7,
     "metadata": {},
     "output_type": "execute_result"
    }
   ],
   "source": [
    "df = df[~(df == -9).any(axis=1)]\n",
    "(df == -9).sum().sum()"
   ]
  },
  {
   "cell_type": "markdown",
   "id": "481e9aec",
   "metadata": {},
   "source": [
    "### Create train/test set"
   ]
  },
  {
   "cell_type": "code",
   "execution_count": 8,
   "id": "281723e0",
   "metadata": {},
   "outputs": [],
   "source": [
    "X = df[df.columns[1:]]\n",
    "Y = df[df.columns[0]].apply(lambda x: 1 if x == \"Bad\" else 0)"
   ]
  },
  {
   "cell_type": "code",
   "execution_count": 9,
   "id": "6727872e",
   "metadata": {},
   "outputs": [],
   "source": [
    "from sklearn.model_selection import train_test_split\n",
    "X_train, X_test, Y_train, Y_test = train_test_split(X, Y, test_size = 0.2,random_state = 1234)"
   ]
  },
  {
   "cell_type": "code",
   "execution_count": 10,
   "id": "8cd7fd86",
   "metadata": {},
   "outputs": [
    {
     "name": "stdout",
     "output_type": "stream",
     "text": [
      "The shapes of X_train, X_test, Y_train, Y_test:\n",
      "(7888, 23) (1973, 23) (7888,) (1973,)\n"
     ]
    }
   ],
   "source": [
    "print('The shapes of X_train, X_test, Y_train, Y_test:')\n",
    "print(X_train.shape,X_test.shape,Y_train.shape,Y_test.shape)"
   ]
  },
  {
   "cell_type": "code",
   "execution_count": 11,
   "id": "f5d9ec21",
   "metadata": {},
   "outputs": [
    {
     "data": {
      "text/html": [
       "<div>\n",
       "<style scoped>\n",
       "    .dataframe tbody tr th:only-of-type {\n",
       "        vertical-align: middle;\n",
       "    }\n",
       "\n",
       "    .dataframe tbody tr th {\n",
       "        vertical-align: top;\n",
       "    }\n",
       "\n",
       "    .dataframe thead th {\n",
       "        text-align: right;\n",
       "    }\n",
       "</style>\n",
       "<table border=\"1\" class=\"dataframe\">\n",
       "  <thead>\n",
       "    <tr style=\"text-align: right;\">\n",
       "      <th></th>\n",
       "      <th>ExternalRiskEstimate</th>\n",
       "      <th>MSinceOldestTradeOpen</th>\n",
       "      <th>MSinceMostRecentTradeOpen</th>\n",
       "      <th>AverageMInFile</th>\n",
       "      <th>NumSatisfactoryTrades</th>\n",
       "      <th>NumTrades60Ever2DerogPubRec</th>\n",
       "      <th>NumTrades90Ever2DerogPubRec</th>\n",
       "      <th>PercentTradesNeverDelq</th>\n",
       "      <th>MSinceMostRecentDelq</th>\n",
       "      <th>MaxDelq2PublicRecLast12M</th>\n",
       "      <th>...</th>\n",
       "      <th>MSinceMostRecentInqexcl7days</th>\n",
       "      <th>NumInqLast6M</th>\n",
       "      <th>NumInqLast6Mexcl7days</th>\n",
       "      <th>NetFractionRevolvingBurden</th>\n",
       "      <th>NetFractionInstallBurden</th>\n",
       "      <th>NumRevolvingTradesWBalance</th>\n",
       "      <th>NumInstallTradesWBalance</th>\n",
       "      <th>NumBank2NatlTradesWHighUtilization</th>\n",
       "      <th>PercentTradesWBalance</th>\n",
       "      <th>RiskPerformance</th>\n",
       "    </tr>\n",
       "  </thead>\n",
       "  <tbody>\n",
       "    <tr>\n",
       "      <th>5476</th>\n",
       "      <td>65</td>\n",
       "      <td>201</td>\n",
       "      <td>3</td>\n",
       "      <td>97</td>\n",
       "      <td>26</td>\n",
       "      <td>1</td>\n",
       "      <td>1</td>\n",
       "      <td>85</td>\n",
       "      <td>18</td>\n",
       "      <td>6</td>\n",
       "      <td>...</td>\n",
       "      <td>1</td>\n",
       "      <td>3</td>\n",
       "      <td>3</td>\n",
       "      <td>60</td>\n",
       "      <td>-8</td>\n",
       "      <td>3</td>\n",
       "      <td>2</td>\n",
       "      <td>2</td>\n",
       "      <td>83</td>\n",
       "      <td>1</td>\n",
       "    </tr>\n",
       "    <tr>\n",
       "      <th>2184</th>\n",
       "      <td>83</td>\n",
       "      <td>143</td>\n",
       "      <td>9</td>\n",
       "      <td>59</td>\n",
       "      <td>27</td>\n",
       "      <td>0</td>\n",
       "      <td>0</td>\n",
       "      <td>100</td>\n",
       "      <td>-7</td>\n",
       "      <td>7</td>\n",
       "      <td>...</td>\n",
       "      <td>0</td>\n",
       "      <td>1</td>\n",
       "      <td>1</td>\n",
       "      <td>4</td>\n",
       "      <td>-8</td>\n",
       "      <td>2</td>\n",
       "      <td>1</td>\n",
       "      <td>0</td>\n",
       "      <td>33</td>\n",
       "      <td>0</td>\n",
       "    </tr>\n",
       "    <tr>\n",
       "      <th>4799</th>\n",
       "      <td>86</td>\n",
       "      <td>229</td>\n",
       "      <td>4</td>\n",
       "      <td>94</td>\n",
       "      <td>25</td>\n",
       "      <td>0</td>\n",
       "      <td>0</td>\n",
       "      <td>100</td>\n",
       "      <td>-7</td>\n",
       "      <td>7</td>\n",
       "      <td>...</td>\n",
       "      <td>2</td>\n",
       "      <td>1</td>\n",
       "      <td>1</td>\n",
       "      <td>3</td>\n",
       "      <td>-8</td>\n",
       "      <td>2</td>\n",
       "      <td>-8</td>\n",
       "      <td>0</td>\n",
       "      <td>40</td>\n",
       "      <td>0</td>\n",
       "    </tr>\n",
       "    <tr>\n",
       "      <th>3550</th>\n",
       "      <td>61</td>\n",
       "      <td>132</td>\n",
       "      <td>1</td>\n",
       "      <td>53</td>\n",
       "      <td>31</td>\n",
       "      <td>1</td>\n",
       "      <td>1</td>\n",
       "      <td>91</td>\n",
       "      <td>37</td>\n",
       "      <td>0</td>\n",
       "      <td>...</td>\n",
       "      <td>3</td>\n",
       "      <td>3</td>\n",
       "      <td>3</td>\n",
       "      <td>32</td>\n",
       "      <td>72</td>\n",
       "      <td>4</td>\n",
       "      <td>2</td>\n",
       "      <td>2</td>\n",
       "      <td>50</td>\n",
       "      <td>0</td>\n",
       "    </tr>\n",
       "    <tr>\n",
       "      <th>2630</th>\n",
       "      <td>89</td>\n",
       "      <td>147</td>\n",
       "      <td>1</td>\n",
       "      <td>145</td>\n",
       "      <td>13</td>\n",
       "      <td>0</td>\n",
       "      <td>0</td>\n",
       "      <td>100</td>\n",
       "      <td>-7</td>\n",
       "      <td>7</td>\n",
       "      <td>...</td>\n",
       "      <td>-7</td>\n",
       "      <td>2</td>\n",
       "      <td>2</td>\n",
       "      <td>2</td>\n",
       "      <td>16</td>\n",
       "      <td>1</td>\n",
       "      <td>1</td>\n",
       "      <td>0</td>\n",
       "      <td>25</td>\n",
       "      <td>0</td>\n",
       "    </tr>\n",
       "  </tbody>\n",
       "</table>\n",
       "<p>5 rows × 24 columns</p>\n",
       "</div>"
      ],
      "text/plain": [
       "      ExternalRiskEstimate  MSinceOldestTradeOpen  MSinceMostRecentTradeOpen  \\\n",
       "5476                    65                    201                          3   \n",
       "2184                    83                    143                          9   \n",
       "4799                    86                    229                          4   \n",
       "3550                    61                    132                          1   \n",
       "2630                    89                    147                          1   \n",
       "\n",
       "      AverageMInFile  NumSatisfactoryTrades  NumTrades60Ever2DerogPubRec  \\\n",
       "5476              97                     26                            1   \n",
       "2184              59                     27                            0   \n",
       "4799              94                     25                            0   \n",
       "3550              53                     31                            1   \n",
       "2630             145                     13                            0   \n",
       "\n",
       "      NumTrades90Ever2DerogPubRec  PercentTradesNeverDelq  \\\n",
       "5476                            1                      85   \n",
       "2184                            0                     100   \n",
       "4799                            0                     100   \n",
       "3550                            1                      91   \n",
       "2630                            0                     100   \n",
       "\n",
       "      MSinceMostRecentDelq  MaxDelq2PublicRecLast12M  ...  \\\n",
       "5476                    18                         6  ...   \n",
       "2184                    -7                         7  ...   \n",
       "4799                    -7                         7  ...   \n",
       "3550                    37                         0  ...   \n",
       "2630                    -7                         7  ...   \n",
       "\n",
       "      MSinceMostRecentInqexcl7days  NumInqLast6M  NumInqLast6Mexcl7days  \\\n",
       "5476                             1             3                      3   \n",
       "2184                             0             1                      1   \n",
       "4799                             2             1                      1   \n",
       "3550                             3             3                      3   \n",
       "2630                            -7             2                      2   \n",
       "\n",
       "      NetFractionRevolvingBurden  NetFractionInstallBurden  \\\n",
       "5476                          60                        -8   \n",
       "2184                           4                        -8   \n",
       "4799                           3                        -8   \n",
       "3550                          32                        72   \n",
       "2630                           2                        16   \n",
       "\n",
       "      NumRevolvingTradesWBalance  NumInstallTradesWBalance  \\\n",
       "5476                           3                         2   \n",
       "2184                           2                         1   \n",
       "4799                           2                        -8   \n",
       "3550                           4                         2   \n",
       "2630                           1                         1   \n",
       "\n",
       "      NumBank2NatlTradesWHighUtilization  PercentTradesWBalance  \\\n",
       "5476                                   2                     83   \n",
       "2184                                   0                     33   \n",
       "4799                                   0                     40   \n",
       "3550                                   2                     50   \n",
       "2630                                   0                     25   \n",
       "\n",
       "      RiskPerformance  \n",
       "5476                1  \n",
       "2184                0  \n",
       "4799                0  \n",
       "3550                0  \n",
       "2630                0  \n",
       "\n",
       "[5 rows x 24 columns]"
      ]
     },
     "execution_count": 11,
     "metadata": {},
     "output_type": "execute_result"
    }
   ],
   "source": [
    "df_train = pd.concat([X_train, Y_train], axis=1)\n",
    "df_train.head()"
   ]
  },
  {
   "cell_type": "markdown",
   "id": "10e92ccc",
   "metadata": {},
   "source": [
    "### Use pipeline to handle the special values `-7` and `-8` for all columns"
   ]
  },
  {
   "cell_type": "code",
   "execution_count": 12,
   "id": "0c71b6ea",
   "metadata": {},
   "outputs": [],
   "source": [
    "from sklearn.pipeline import Pipeline\n",
    "from sklearn.pipeline import FeatureUnion\n",
    "from sklearn.impute import MissingIndicator, SimpleImputer\n",
    "from sklearn.compose import ColumnTransformer\n",
    "\n",
    "do_nothing_imputer = ColumnTransformer([(\"Imputer -7 to mean\", SimpleImputer(missing_values=-7, strategy='mean'), [])], remainder='passthrough')\n",
    "\n",
    "feature_expansion = FeatureUnion([(\"do nothing\", do_nothing_imputer),\n",
    "                                  (\"add features for -7\", MissingIndicator(missing_values=-7, features='missing-only')),\n",
    "                                  (\"add features for -8\", MissingIndicator(missing_values=-8, features='missing-only'))])\n"
   ]
  },
  {
   "cell_type": "code",
   "execution_count": 13,
   "id": "1d14cfd1",
   "metadata": {},
   "outputs": [],
   "source": [
    "pipeline = Pipeline([\n",
    "    (\"expand_features\", feature_expansion),\n",
    "    (\"replace_-7_with_-8\", SimpleImputer(missing_values=-7, strategy='constant', fill_value=-8)),\n",
    "    (\"replace_-8_with_mean\", SimpleImputer(missing_values=-8, strategy='mean'))\n",
    "])\n",
    "\n",
    "arr_X_train_t = pipeline.fit_transform(X_train)"
   ]
  },
  {
   "cell_type": "code",
   "execution_count": 14,
   "id": "35d08809",
   "metadata": {},
   "outputs": [],
   "source": [
    "cols = X_train.columns.values.tolist()\n",
    "minus_7 = [f\"{col}=-7\" for col in X_train.columns if X_train[col].eq(-7).any()]\n",
    "minus_8 = [f\"{col}=-8\" for col in X_train.columns if X_train[col].eq(-8).any()]\n",
    "column_names = cols + minus_7 + minus_8"
   ]
  },
  {
   "cell_type": "code",
   "execution_count": 15,
   "id": "9de1b2da",
   "metadata": {},
   "outputs": [],
   "source": [
    "X_train_t = pd.DataFrame(arr_X_train_t, columns=column_names)"
   ]
  },
  {
   "cell_type": "code",
   "execution_count": 16,
   "id": "437794da",
   "metadata": {},
   "outputs": [
    {
     "data": {
      "text/html": [
       "<div>\n",
       "<style scoped>\n",
       "    .dataframe tbody tr th:only-of-type {\n",
       "        vertical-align: middle;\n",
       "    }\n",
       "\n",
       "    .dataframe tbody tr th {\n",
       "        vertical-align: top;\n",
       "    }\n",
       "\n",
       "    .dataframe thead th {\n",
       "        text-align: right;\n",
       "    }\n",
       "</style>\n",
       "<table border=\"1\" class=\"dataframe\">\n",
       "  <thead>\n",
       "    <tr style=\"text-align: right;\">\n",
       "      <th></th>\n",
       "      <th>ExternalRiskEstimate</th>\n",
       "      <th>MSinceOldestTradeOpen</th>\n",
       "      <th>MSinceMostRecentTradeOpen</th>\n",
       "      <th>AverageMInFile</th>\n",
       "      <th>NumSatisfactoryTrades</th>\n",
       "      <th>NumTrades60Ever2DerogPubRec</th>\n",
       "      <th>NumTrades90Ever2DerogPubRec</th>\n",
       "      <th>PercentTradesNeverDelq</th>\n",
       "      <th>MSinceMostRecentDelq</th>\n",
       "      <th>MaxDelq2PublicRecLast12M</th>\n",
       "      <th>...</th>\n",
       "      <th>MSinceMostRecentInqexcl7days=-7</th>\n",
       "      <th>MSinceOldestTradeOpen=-8</th>\n",
       "      <th>MSinceMostRecentDelq=-8</th>\n",
       "      <th>MSinceMostRecentInqexcl7days=-8</th>\n",
       "      <th>NetFractionRevolvingBurden=-8</th>\n",
       "      <th>NetFractionInstallBurden=-8</th>\n",
       "      <th>NumRevolvingTradesWBalance=-8</th>\n",
       "      <th>NumInstallTradesWBalance=-8</th>\n",
       "      <th>NumBank2NatlTradesWHighUtilization=-8</th>\n",
       "      <th>PercentTradesWBalance=-8</th>\n",
       "    </tr>\n",
       "  </thead>\n",
       "  <tbody>\n",
       "    <tr>\n",
       "      <th>count</th>\n",
       "      <td>7888.000000</td>\n",
       "      <td>7888.000000</td>\n",
       "      <td>7888.000000</td>\n",
       "      <td>7888.000000</td>\n",
       "      <td>7888.000000</td>\n",
       "      <td>7888.000000</td>\n",
       "      <td>7888.000000</td>\n",
       "      <td>7888.000000</td>\n",
       "      <td>7888.000000</td>\n",
       "      <td>7888.000000</td>\n",
       "      <td>...</td>\n",
       "      <td>7888.000000</td>\n",
       "      <td>7888.000000</td>\n",
       "      <td>7888.000000</td>\n",
       "      <td>7888.000000</td>\n",
       "      <td>7888.000000</td>\n",
       "      <td>7888.000000</td>\n",
       "      <td>7888.000000</td>\n",
       "      <td>7888.000000</td>\n",
       "      <td>7888.000000</td>\n",
       "      <td>7888.000000</td>\n",
       "    </tr>\n",
       "    <tr>\n",
       "      <th>mean</th>\n",
       "      <td>72.054260</td>\n",
       "      <td>201.366117</td>\n",
       "      <td>9.477941</td>\n",
       "      <td>78.865745</td>\n",
       "      <td>21.213489</td>\n",
       "      <td>0.578220</td>\n",
       "      <td>0.380958</td>\n",
       "      <td>92.323783</td>\n",
       "      <td>21.635889</td>\n",
       "      <td>5.752282</td>\n",
       "      <td>...</td>\n",
       "      <td>0.184711</td>\n",
       "      <td>0.024214</td>\n",
       "      <td>0.016608</td>\n",
       "      <td>0.049696</td>\n",
       "      <td>0.017115</td>\n",
       "      <td>0.343053</td>\n",
       "      <td>0.014072</td>\n",
       "      <td>0.083545</td>\n",
       "      <td>0.055781</td>\n",
       "      <td>0.001141</td>\n",
       "    </tr>\n",
       "    <tr>\n",
       "      <th>std</th>\n",
       "      <td>9.900358</td>\n",
       "      <td>96.675913</td>\n",
       "      <td>12.084149</td>\n",
       "      <td>33.706038</td>\n",
       "      <td>11.279209</td>\n",
       "      <td>1.254369</td>\n",
       "      <td>1.002483</td>\n",
       "      <td>11.787406</td>\n",
       "      <td>14.920678</td>\n",
       "      <td>1.649831</td>\n",
       "      <td>...</td>\n",
       "      <td>0.388088</td>\n",
       "      <td>0.153723</td>\n",
       "      <td>0.127804</td>\n",
       "      <td>0.217329</td>\n",
       "      <td>0.129707</td>\n",
       "      <td>0.474759</td>\n",
       "      <td>0.117795</td>\n",
       "      <td>0.276721</td>\n",
       "      <td>0.229513</td>\n",
       "      <td>0.033761</td>\n",
       "    </tr>\n",
       "    <tr>\n",
       "      <th>min</th>\n",
       "      <td>33.000000</td>\n",
       "      <td>2.000000</td>\n",
       "      <td>0.000000</td>\n",
       "      <td>4.000000</td>\n",
       "      <td>0.000000</td>\n",
       "      <td>0.000000</td>\n",
       "      <td>0.000000</td>\n",
       "      <td>0.000000</td>\n",
       "      <td>0.000000</td>\n",
       "      <td>0.000000</td>\n",
       "      <td>...</td>\n",
       "      <td>0.000000</td>\n",
       "      <td>0.000000</td>\n",
       "      <td>0.000000</td>\n",
       "      <td>0.000000</td>\n",
       "      <td>0.000000</td>\n",
       "      <td>0.000000</td>\n",
       "      <td>0.000000</td>\n",
       "      <td>0.000000</td>\n",
       "      <td>0.000000</td>\n",
       "      <td>0.000000</td>\n",
       "    </tr>\n",
       "    <tr>\n",
       "      <th>25%</th>\n",
       "      <td>64.000000</td>\n",
       "      <td>137.000000</td>\n",
       "      <td>3.000000</td>\n",
       "      <td>57.000000</td>\n",
       "      <td>13.000000</td>\n",
       "      <td>0.000000</td>\n",
       "      <td>0.000000</td>\n",
       "      <td>89.000000</td>\n",
       "      <td>14.000000</td>\n",
       "      <td>5.000000</td>\n",
       "      <td>...</td>\n",
       "      <td>0.000000</td>\n",
       "      <td>0.000000</td>\n",
       "      <td>0.000000</td>\n",
       "      <td>0.000000</td>\n",
       "      <td>0.000000</td>\n",
       "      <td>0.000000</td>\n",
       "      <td>0.000000</td>\n",
       "      <td>0.000000</td>\n",
       "      <td>0.000000</td>\n",
       "      <td>0.000000</td>\n",
       "    </tr>\n",
       "    <tr>\n",
       "      <th>50%</th>\n",
       "      <td>72.000000</td>\n",
       "      <td>189.000000</td>\n",
       "      <td>6.000000</td>\n",
       "      <td>76.000000</td>\n",
       "      <td>20.000000</td>\n",
       "      <td>0.000000</td>\n",
       "      <td>0.000000</td>\n",
       "      <td>97.000000</td>\n",
       "      <td>21.635889</td>\n",
       "      <td>6.000000</td>\n",
       "      <td>...</td>\n",
       "      <td>0.000000</td>\n",
       "      <td>0.000000</td>\n",
       "      <td>0.000000</td>\n",
       "      <td>0.000000</td>\n",
       "      <td>0.000000</td>\n",
       "      <td>0.000000</td>\n",
       "      <td>0.000000</td>\n",
       "      <td>0.000000</td>\n",
       "      <td>0.000000</td>\n",
       "      <td>0.000000</td>\n",
       "    </tr>\n",
       "    <tr>\n",
       "      <th>75%</th>\n",
       "      <td>80.000000</td>\n",
       "      <td>256.000000</td>\n",
       "      <td>12.000000</td>\n",
       "      <td>96.000000</td>\n",
       "      <td>28.000000</td>\n",
       "      <td>1.000000</td>\n",
       "      <td>0.000000</td>\n",
       "      <td>100.000000</td>\n",
       "      <td>21.635889</td>\n",
       "      <td>7.000000</td>\n",
       "      <td>...</td>\n",
       "      <td>0.000000</td>\n",
       "      <td>0.000000</td>\n",
       "      <td>0.000000</td>\n",
       "      <td>0.000000</td>\n",
       "      <td>0.000000</td>\n",
       "      <td>1.000000</td>\n",
       "      <td>0.000000</td>\n",
       "      <td>0.000000</td>\n",
       "      <td>0.000000</td>\n",
       "      <td>0.000000</td>\n",
       "    </tr>\n",
       "    <tr>\n",
       "      <th>max</th>\n",
       "      <td>94.000000</td>\n",
       "      <td>803.000000</td>\n",
       "      <td>207.000000</td>\n",
       "      <td>275.000000</td>\n",
       "      <td>75.000000</td>\n",
       "      <td>19.000000</td>\n",
       "      <td>19.000000</td>\n",
       "      <td>100.000000</td>\n",
       "      <td>83.000000</td>\n",
       "      <td>9.000000</td>\n",
       "      <td>...</td>\n",
       "      <td>1.000000</td>\n",
       "      <td>1.000000</td>\n",
       "      <td>1.000000</td>\n",
       "      <td>1.000000</td>\n",
       "      <td>1.000000</td>\n",
       "      <td>1.000000</td>\n",
       "      <td>1.000000</td>\n",
       "      <td>1.000000</td>\n",
       "      <td>1.000000</td>\n",
       "      <td>1.000000</td>\n",
       "    </tr>\n",
       "  </tbody>\n",
       "</table>\n",
       "<p>8 rows × 34 columns</p>\n",
       "</div>"
      ],
      "text/plain": [
       "       ExternalRiskEstimate  MSinceOldestTradeOpen  MSinceMostRecentTradeOpen  \\\n",
       "count           7888.000000            7888.000000                7888.000000   \n",
       "mean              72.054260             201.366117                   9.477941   \n",
       "std                9.900358              96.675913                  12.084149   \n",
       "min               33.000000               2.000000                   0.000000   \n",
       "25%               64.000000             137.000000                   3.000000   \n",
       "50%               72.000000             189.000000                   6.000000   \n",
       "75%               80.000000             256.000000                  12.000000   \n",
       "max               94.000000             803.000000                 207.000000   \n",
       "\n",
       "       AverageMInFile  NumSatisfactoryTrades  NumTrades60Ever2DerogPubRec  \\\n",
       "count     7888.000000            7888.000000                  7888.000000   \n",
       "mean        78.865745              21.213489                     0.578220   \n",
       "std         33.706038              11.279209                     1.254369   \n",
       "min          4.000000               0.000000                     0.000000   \n",
       "25%         57.000000              13.000000                     0.000000   \n",
       "50%         76.000000              20.000000                     0.000000   \n",
       "75%         96.000000              28.000000                     1.000000   \n",
       "max        275.000000              75.000000                    19.000000   \n",
       "\n",
       "       NumTrades90Ever2DerogPubRec  PercentTradesNeverDelq  \\\n",
       "count                  7888.000000             7888.000000   \n",
       "mean                      0.380958               92.323783   \n",
       "std                       1.002483               11.787406   \n",
       "min                       0.000000                0.000000   \n",
       "25%                       0.000000               89.000000   \n",
       "50%                       0.000000               97.000000   \n",
       "75%                       0.000000              100.000000   \n",
       "max                      19.000000              100.000000   \n",
       "\n",
       "       MSinceMostRecentDelq  MaxDelq2PublicRecLast12M  ...  \\\n",
       "count           7888.000000               7888.000000  ...   \n",
       "mean              21.635889                  5.752282  ...   \n",
       "std               14.920678                  1.649831  ...   \n",
       "min                0.000000                  0.000000  ...   \n",
       "25%               14.000000                  5.000000  ...   \n",
       "50%               21.635889                  6.000000  ...   \n",
       "75%               21.635889                  7.000000  ...   \n",
       "max               83.000000                  9.000000  ...   \n",
       "\n",
       "       MSinceMostRecentInqexcl7days=-7  MSinceOldestTradeOpen=-8  \\\n",
       "count                      7888.000000               7888.000000   \n",
       "mean                          0.184711                  0.024214   \n",
       "std                           0.388088                  0.153723   \n",
       "min                           0.000000                  0.000000   \n",
       "25%                           0.000000                  0.000000   \n",
       "50%                           0.000000                  0.000000   \n",
       "75%                           0.000000                  0.000000   \n",
       "max                           1.000000                  1.000000   \n",
       "\n",
       "       MSinceMostRecentDelq=-8  MSinceMostRecentInqexcl7days=-8  \\\n",
       "count              7888.000000                      7888.000000   \n",
       "mean                  0.016608                         0.049696   \n",
       "std                   0.127804                         0.217329   \n",
       "min                   0.000000                         0.000000   \n",
       "25%                   0.000000                         0.000000   \n",
       "50%                   0.000000                         0.000000   \n",
       "75%                   0.000000                         0.000000   \n",
       "max                   1.000000                         1.000000   \n",
       "\n",
       "       NetFractionRevolvingBurden=-8  NetFractionInstallBurden=-8  \\\n",
       "count                    7888.000000                  7888.000000   \n",
       "mean                        0.017115                     0.343053   \n",
       "std                         0.129707                     0.474759   \n",
       "min                         0.000000                     0.000000   \n",
       "25%                         0.000000                     0.000000   \n",
       "50%                         0.000000                     0.000000   \n",
       "75%                         0.000000                     1.000000   \n",
       "max                         1.000000                     1.000000   \n",
       "\n",
       "       NumRevolvingTradesWBalance=-8  NumInstallTradesWBalance=-8  \\\n",
       "count                    7888.000000                  7888.000000   \n",
       "mean                        0.014072                     0.083545   \n",
       "std                         0.117795                     0.276721   \n",
       "min                         0.000000                     0.000000   \n",
       "25%                         0.000000                     0.000000   \n",
       "50%                         0.000000                     0.000000   \n",
       "75%                         0.000000                     0.000000   \n",
       "max                         1.000000                     1.000000   \n",
       "\n",
       "       NumBank2NatlTradesWHighUtilization=-8  PercentTradesWBalance=-8  \n",
       "count                            7888.000000               7888.000000  \n",
       "mean                                0.055781                  0.001141  \n",
       "std                                 0.229513                  0.033761  \n",
       "min                                 0.000000                  0.000000  \n",
       "25%                                 0.000000                  0.000000  \n",
       "50%                                 0.000000                  0.000000  \n",
       "75%                                 0.000000                  0.000000  \n",
       "max                                 1.000000                  1.000000  \n",
       "\n",
       "[8 rows x 34 columns]"
      ]
     },
     "execution_count": 16,
     "metadata": {},
     "output_type": "execute_result"
    }
   ],
   "source": [
    "X_train_t.describe()"
   ]
  },
  {
   "cell_type": "code",
   "execution_count": 17,
   "id": "eb517095",
   "metadata": {},
   "outputs": [
    {
     "name": "stdout",
     "output_type": "stream",
     "text": [
      "<class 'pandas.core.frame.DataFrame'>\n",
      "RangeIndex: 7888 entries, 0 to 7887\n",
      "Data columns (total 34 columns):\n",
      " #   Column                                 Non-Null Count  Dtype  \n",
      "---  ------                                 --------------  -----  \n",
      " 0   ExternalRiskEstimate                   7888 non-null   float64\n",
      " 1   MSinceOldestTradeOpen                  7888 non-null   float64\n",
      " 2   MSinceMostRecentTradeOpen              7888 non-null   float64\n",
      " 3   AverageMInFile                         7888 non-null   float64\n",
      " 4   NumSatisfactoryTrades                  7888 non-null   float64\n",
      " 5   NumTrades60Ever2DerogPubRec            7888 non-null   float64\n",
      " 6   NumTrades90Ever2DerogPubRec            7888 non-null   float64\n",
      " 7   PercentTradesNeverDelq                 7888 non-null   float64\n",
      " 8   MSinceMostRecentDelq                   7888 non-null   float64\n",
      " 9   MaxDelq2PublicRecLast12M               7888 non-null   float64\n",
      " 10  MaxDelqEver                            7888 non-null   float64\n",
      " 11  NumTotalTrades                         7888 non-null   float64\n",
      " 12  NumTradesOpeninLast12M                 7888 non-null   float64\n",
      " 13  PercentInstallTrades                   7888 non-null   float64\n",
      " 14  MSinceMostRecentInqexcl7days           7888 non-null   float64\n",
      " 15  NumInqLast6M                           7888 non-null   float64\n",
      " 16  NumInqLast6Mexcl7days                  7888 non-null   float64\n",
      " 17  NetFractionRevolvingBurden             7888 non-null   float64\n",
      " 18  NetFractionInstallBurden               7888 non-null   float64\n",
      " 19  NumRevolvingTradesWBalance             7888 non-null   float64\n",
      " 20  NumInstallTradesWBalance               7888 non-null   float64\n",
      " 21  NumBank2NatlTradesWHighUtilization     7888 non-null   float64\n",
      " 22  PercentTradesWBalance                  7888 non-null   float64\n",
      " 23  MSinceMostRecentDelq=-7                7888 non-null   float64\n",
      " 24  MSinceMostRecentInqexcl7days=-7        7888 non-null   float64\n",
      " 25  MSinceOldestTradeOpen=-8               7888 non-null   float64\n",
      " 26  MSinceMostRecentDelq=-8                7888 non-null   float64\n",
      " 27  MSinceMostRecentInqexcl7days=-8        7888 non-null   float64\n",
      " 28  NetFractionRevolvingBurden=-8          7888 non-null   float64\n",
      " 29  NetFractionInstallBurden=-8            7888 non-null   float64\n",
      " 30  NumRevolvingTradesWBalance=-8          7888 non-null   float64\n",
      " 31  NumInstallTradesWBalance=-8            7888 non-null   float64\n",
      " 32  NumBank2NatlTradesWHighUtilization=-8  7888 non-null   float64\n",
      " 33  PercentTradesWBalance=-8               7888 non-null   float64\n",
      "dtypes: float64(34)\n",
      "memory usage: 2.0 MB\n"
     ]
    }
   ],
   "source": [
    "X_train_t.info()"
   ]
  },
  {
   "cell_type": "code",
   "execution_count": 18,
   "id": "1fa15f00",
   "metadata": {},
   "outputs": [],
   "source": [
    "X_test_t = pipeline.transform(X_test)\n",
    "X_test_t = pd.DataFrame(X_test_t, columns=column_names)"
   ]
  },
  {
   "cell_type": "code",
   "execution_count": 19,
   "id": "a1555738",
   "metadata": {},
   "outputs": [],
   "source": [
    "X_train_t_tr, X_train_t_val, Y_train_t_tr, Y_train_t_val = train_test_split(X_train_t,Y_train,\n",
    "                                                                            test_size=0.25,\n",
    "                                                                            random_state = 1234)"
   ]
  },
  {
   "cell_type": "code",
   "execution_count": 20,
   "id": "85616e0d",
   "metadata": {},
   "outputs": [
    {
     "name": "stdout",
     "output_type": "stream",
     "text": [
      "Train data:      X_train_t_tr: (5916, 34)  Y_train_t_tr: (5916,)\n",
      "Validation data: X_train_t_val: (1972, 34) Y_train_t_val: (1972,)\n",
      "Test data:       X_test_t: (1973, 34)      Y_test: (1973,)\n",
      "\n",
      "The proportion of train, validation, test data is 0.6:0.2:0.2\n",
      "\n"
     ]
    }
   ],
   "source": [
    "n = len(Y_train_t_tr) + len(Y_train_t_val) + len(Y_test)\n",
    "print('Train data:      X_train_t_tr:', X_train_t_tr.shape, ' Y_train_t_tr:', Y_train_t_tr.shape)\n",
    "print('Validation data: X_train_t_val:', X_train_t_val.shape, 'Y_train_t_val:', Y_train_t_val.shape)\n",
    "print('Test data:       X_test_t:', X_test_t.shape, '     Y_test:', Y_test.shape)\n",
    "print('\\nThe proportion of train, validation, test data is %.1f:%.1f:%.1f\\n'%(len(Y_train_t_tr)/n, len(Y_train_t_val)/n, len(Y_test)/n))"
   ]
  },
  {
   "cell_type": "markdown",
   "id": "c089fe55",
   "metadata": {},
   "source": [
    "---"
   ]
  },
  {
   "cell_type": "markdown",
   "id": "19af7d13",
   "metadata": {},
   "source": [
    "## Train models"
   ]
  },
  {
   "cell_type": "markdown",
   "id": "99d6bf4f",
   "metadata": {},
   "source": [
    "We will train several models and try to optimize each of them to see which would perform the best."
   ]
  },
  {
   "cell_type": "markdown",
   "id": "05937a91",
   "metadata": {},
   "source": [
    "---"
   ]
  },
  {
   "cell_type": "markdown",
   "id": "2c2d714e",
   "metadata": {},
   "source": [
    "### Decision Tree model"
   ]
  },
  {
   "cell_type": "code",
   "execution_count": 21,
   "id": "90c7b1f2",
   "metadata": {},
   "outputs": [],
   "source": [
    "from sklearn import tree\n",
    "from sklearn.tree import DecisionTreeClassifier\n",
    "clf_tree = DecisionTreeClassifier(max_depth=1, random_state=0).fit(X_train_t_tr, Y_train_t_tr)"
   ]
  },
  {
   "cell_type": "code",
   "execution_count": 22,
   "id": "69d5e441",
   "metadata": {
    "scrolled": true
   },
   "outputs": [
    {
     "name": "stdout",
     "output_type": "stream",
     "text": [
      "Decision tree Train accuracy: 0.703\n",
      "Decision tree Validation accuracy: 0.706\n"
     ]
    }
   ],
   "source": [
    "from sklearn.metrics import accuracy_score\n",
    "print('Decision tree Train accuracy: %.3f'%clf_tree.score(X_train_t_tr, Y_train_t_tr))\n",
    "print('Decision tree Validation accuracy: %.3f'%clf_tree.score(X_train_t_val, Y_train_t_val))"
   ]
  },
  {
   "cell_type": "markdown",
   "id": "e54ff842",
   "metadata": {},
   "source": [
    "#### Utilize `Cross-validation`"
   ]
  },
  {
   "cell_type": "code",
   "execution_count": 23,
   "id": "fd856ccc",
   "metadata": {},
   "outputs": [],
   "source": [
    "from sklearn.model_selection import cross_validate\n",
    "cv_results_tree = cross_validate(DecisionTreeClassifier(**clf_tree.get_params()), \n",
    "                                 X_train_t,Y_train, cv=5, return_estimator=True)"
   ]
  },
  {
   "cell_type": "code",
   "execution_count": 24,
   "id": "b78540fd",
   "metadata": {},
   "outputs": [
    {
     "name": "stdout",
     "output_type": "stream",
     "text": [
      "The test score for decision tree is [0.67997465 0.70025349 0.70342205 0.70133164 0.71908687]\n",
      "Classification tree - CV accuracy score 0.701\n",
      "Classification tree - validation accuracy score: 0.706\n"
     ]
    }
   ],
   "source": [
    "print('The test score for decision tree is {}'.format(cv_results_tree['test_score']))\n",
    "print('Classification tree - CV accuracy score %.3f'%cv_results_tree['test_score'].mean()) \n",
    "print('Classification tree - validation accuracy score: %.3f'%accuracy_score(Y_train_t_val, clf_tree.predict(X_train_t_val)))"
   ]
  },
  {
   "cell_type": "code",
   "execution_count": 25,
   "id": "62920982",
   "metadata": {
    "scrolled": false
   },
   "outputs": [
    {
     "data": {
      "image/png": "[encoded data removed]",
      "text/plain": [
       "<Figure size 432x288 with 1 Axes>"
      ]
     },
     "metadata": {
      "needs_background": "light"
     },
     "output_type": "display_data"
    }
   ],
   "source": [
    "depths = range(1, 13)\n",
    "train_accuracies = [DecisionTreeClassifier(max_depth = depth, random_state = 0). \\\n",
    "                    fit(X_train_t_tr, Y_train_t_tr). \\\n",
    "                    score(X_train_t_tr, Y_train_t_tr) for depth in depths]\n",
    "val_accuracies = [DecisionTreeClassifier(max_depth = depth, random_state = 0). \\\n",
    "                  fit(X_train_t_tr, Y_train_t_tr). \\\n",
    "                  score(X_train_t_val, Y_train_t_val) for depth in depths]\n",
    "\n",
    "tree_accuracy = pd.DataFrame({\n",
    "    'Train accuracy': train_accuracies,\n",
    "    'Validation accuracy': val_accuracies\n",
    "}, index = depths)\n",
    "tree_accuracy.plot();"
   ]
  },
  {
   "cell_type": "code",
   "execution_count": 26,
   "id": "85673efe",
   "metadata": {},
   "outputs": [
    {
     "data": {
      "text/html": [
       "<style>#sk-container-id-1 {color: black;}#sk-container-id-1 pre{padding: 0;}#sk-container-id-1 div.sk-toggleable {background-color: white;}#sk-container-id-1 label.sk-toggleable__label {cursor: pointer;display: block;width: 100%;margin-bottom: 0;padding: 0.3em;box-sizing: border-box;text-align: center;}#sk-container-id-1 label.sk-toggleable__label-arrow:before {content: \"▸\";float: left;margin-right: 0.25em;color: #696969;}#sk-container-id-1 label.sk-toggleable__label-arrow:hover:before {color: black;}#sk-container-id-1 div.sk-estimator:hover label.sk-toggleable__label-arrow:before {color: black;}#sk-container-id-1 div.sk-toggleable__content {max-height: 0;max-width: 0;overflow: hidden;text-align: left;background-color: #f0f8ff;}#sk-container-id-1 div.sk-toggleable__content pre {margin: 0.2em;color: black;border-radius: 0.25em;background-color: #f0f8ff;}#sk-container-id-1 input.sk-toggleable__control:checked~div.sk-toggleable__content {max-height: 200px;max-width: 100%;overflow: auto;}#sk-container-id-1 input.sk-toggleable__control:checked~label.sk-toggleable__label-arrow:before {content: \"▾\";}#sk-container-id-1 div.sk-estimator input.sk-toggleable__control:checked~label.sk-toggleable__label {background-color: #d4ebff;}#sk-container-id-1 div.sk-label input.sk-toggleable__control:checked~label.sk-toggleable__label {background-color: #d4ebff;}#sk-container-id-1 input.sk-hidden--visually {border: 0;clip: rect(1px 1px 1px 1px);clip: rect(1px, 1px, 1px, 1px);height: 1px;margin: -1px;overflow: hidden;padding: 0;position: absolute;width: 1px;}#sk-container-id-1 div.sk-estimator {font-family: monospace;background-color: #f0f8ff;border: 1px dotted black;border-radius: 0.25em;box-sizing: border-box;margin-bottom: 0.5em;}#sk-container-id-1 div.sk-estimator:hover {background-color: #d4ebff;}#sk-container-id-1 div.sk-parallel-item::after {content: \"\";width: 100%;border-bottom: 1px solid gray;flex-grow: 1;}#sk-container-id-1 div.sk-label:hover label.sk-toggleable__label {background-color: #d4ebff;}#sk-container-id-1 div.sk-serial::before {content: \"\";position: absolute;border-left: 1px solid gray;box-sizing: border-box;top: 0;bottom: 0;left: 50%;z-index: 0;}#sk-container-id-1 div.sk-serial {display: flex;flex-direction: column;align-items: center;background-color: white;padding-right: 0.2em;padding-left: 0.2em;position: relative;}#sk-container-id-1 div.sk-item {position: relative;z-index: 1;}#sk-container-id-1 div.sk-parallel {display: flex;align-items: stretch;justify-content: center;background-color: white;position: relative;}#sk-container-id-1 div.sk-item::before, #sk-container-id-1 div.sk-parallel-item::before {content: \"\";position: absolute;border-left: 1px solid gray;box-sizing: border-box;top: 0;bottom: 0;left: 50%;z-index: -1;}#sk-container-id-1 div.sk-parallel-item {display: flex;flex-direction: column;z-index: 1;position: relative;background-color: white;}#sk-container-id-1 div.sk-parallel-item:first-child::after {align-self: flex-end;width: 50%;}#sk-container-id-1 div.sk-parallel-item:last-child::after {align-self: flex-start;width: 50%;}#sk-container-id-1 div.sk-parallel-item:only-child::after {width: 0;}#sk-container-id-1 div.sk-dashed-wrapped {border: 1px dashed gray;margin: 0 0.4em 0.5em 0.4em;box-sizing: border-box;padding-bottom: 0.4em;background-color: white;}#sk-container-id-1 div.sk-label label {font-family: monospace;font-weight: bold;display: inline-block;line-height: 1.2em;}#sk-container-id-1 div.sk-label-container {text-align: center;}#sk-container-id-1 div.sk-container {/* jupyter's `normalize.less` sets `[hidden] { display: none; }` but bootstrap.min.css set `[hidden] { display: none !important; }` so we also need the `!important` here to be able to override the default hidden behavior on the sphinx rendered scikit-learn.org. See: https://github.com/scikit-learn/scikit-learn/issues/21755 */display: inline-block !important;position: relative;}#sk-container-id-1 div.sk-text-repr-fallback {display: none;}</style><div id=\"sk-container-id-1\" class=\"sk-top-container\"><div class=\"sk-text-repr-fallback\"><pre>GridSearchCV(cv=StratifiedKFold(n_splits=5, random_state=0, shuffle=True),\n",
       "             estimator=DecisionTreeClassifier(random_state=0),\n",
       "             param_grid=[{&#x27;criterion&#x27;: [&#x27;gini&#x27;, &#x27;entropy&#x27;],\n",
       "                          &#x27;max_depth&#x27;: range(1, 13),\n",
       "                          &#x27;max_leaf_nodes&#x27;: [2, 4, 6, 20, 100, 10000],\n",
       "                          &#x27;min_samples_leaf&#x27;: [10, 20, 30, 100],\n",
       "                          &#x27;min_samples_split&#x27;: [2, 5, 10]}],\n",
       "             scoring=&#x27;accuracy&#x27;)</pre><b>In a Jupyter environment, please rerun this cell to show the HTML representation or trust the notebook. <br />On GitHub, the HTML representation is unable to render, please try loading this page with nbviewer.org.</b></div><div class=\"sk-container\" hidden><div class=\"sk-item sk-dashed-wrapped\"><div class=\"sk-label-container\"><div class=\"sk-label sk-toggleable\"><input class=\"sk-toggleable__control sk-hidden--visually\" id=\"sk-estimator-id-1\" type=\"checkbox\" ><label for=\"sk-estimator-id-1\" class=\"sk-toggleable__label sk-toggleable__label-arrow\">GridSearchCV</label><div class=\"sk-toggleable__content\"><pre>GridSearchCV(cv=StratifiedKFold(n_splits=5, random_state=0, shuffle=True),\n",
       "             estimator=DecisionTreeClassifier(random_state=0),\n",
       "             param_grid=[{&#x27;criterion&#x27;: [&#x27;gini&#x27;, &#x27;entropy&#x27;],\n",
       "                          &#x27;max_depth&#x27;: range(1, 13),\n",
       "                          &#x27;max_leaf_nodes&#x27;: [2, 4, 6, 20, 100, 10000],\n",
       "                          &#x27;min_samples_leaf&#x27;: [10, 20, 30, 100],\n",
       "                          &#x27;min_samples_split&#x27;: [2, 5, 10]}],\n",
       "             scoring=&#x27;accuracy&#x27;)</pre></div></div></div><div class=\"sk-parallel\"><div class=\"sk-parallel-item\"><div class=\"sk-item\"><div class=\"sk-label-container\"><div class=\"sk-label sk-toggleable\"><input class=\"sk-toggleable__control sk-hidden--visually\" id=\"sk-estimator-id-2\" type=\"checkbox\" ><label for=\"sk-estimator-id-2\" class=\"sk-toggleable__label sk-toggleable__label-arrow\">estimator: DecisionTreeClassifier</label><div class=\"sk-toggleable__content\"><pre>DecisionTreeClassifier(random_state=0)</pre></div></div></div><div class=\"sk-serial\"><div class=\"sk-item\"><div class=\"sk-estimator sk-toggleable\"><input class=\"sk-toggleable__control sk-hidden--visually\" id=\"sk-estimator-id-3\" type=\"checkbox\" ><label for=\"sk-estimator-id-3\" class=\"sk-toggleable__label sk-toggleable__label-arrow\">DecisionTreeClassifier</label><div class=\"sk-toggleable__content\"><pre>DecisionTreeClassifier(random_state=0)</pre></div></div></div></div></div></div></div></div></div></div>"
      ],
      "text/plain": [
       "GridSearchCV(cv=StratifiedKFold(n_splits=5, random_state=0, shuffle=True),\n",
       "             estimator=DecisionTreeClassifier(random_state=0),\n",
       "             param_grid=[{'criterion': ['gini', 'entropy'],\n",
       "                          'max_depth': range(1, 13),\n",
       "                          'max_leaf_nodes': [2, 4, 6, 20, 100, 10000],\n",
       "                          'min_samples_leaf': [10, 20, 30, 100],\n",
       "                          'min_samples_split': [2, 5, 10]}],\n",
       "             scoring='accuracy')"
      ]
     },
     "execution_count": 26,
     "metadata": {},
     "output_type": "execute_result"
    }
   ],
   "source": [
    "from sklearn.model_selection import GridSearchCV\n",
    "from sklearn.model_selection import StratifiedKFold\n",
    "param_grid = [{'max_depth':range(1,13),\n",
    "               'criterion':[\"gini\", \"entropy\"],\n",
    "               'min_samples_leaf':[10,20,30,100],\n",
    "               'min_samples_split':[2,5,10],\n",
    "               'max_leaf_nodes':[2,4,6,20,100,10000]}]\n",
    "\n",
    "grid_search = GridSearchCV(DecisionTreeClassifier(random_state=0), \n",
    "                           param_grid, \n",
    "                           cv=StratifiedKFold(n_splits=5, shuffle=True, random_state=0), \n",
    "                           scoring='accuracy')\n",
    "\n",
    "grid_search.fit(X_train_t_tr, Y_train_t_tr)"
   ]
  },
  {
   "cell_type": "code",
   "execution_count": 27,
   "id": "3fdf1142",
   "metadata": {},
   "outputs": [
    {
     "data": {
      "text/plain": [
       "{'criterion': 'entropy',\n",
       " 'max_depth': 6,\n",
       " 'max_leaf_nodes': 20,\n",
       " 'min_samples_leaf': 30,\n",
       " 'min_samples_split': 2}"
      ]
     },
     "execution_count": 27,
     "metadata": {},
     "output_type": "execute_result"
    }
   ],
   "source": [
    "grid_search.best_params_"
   ]
  },
  {
   "cell_type": "code",
   "execution_count": 28,
   "id": "d8655489",
   "metadata": {},
   "outputs": [
    {
     "data": {
      "text/html": [
       "<style>#sk-container-id-2 {color: black;}#sk-container-id-2 pre{padding: 0;}#sk-container-id-2 div.sk-toggleable {background-color: white;}#sk-container-id-2 label.sk-toggleable__label {cursor: pointer;display: block;width: 100%;margin-bottom: 0;padding: 0.3em;box-sizing: border-box;text-align: center;}#sk-container-id-2 label.sk-toggleable__label-arrow:before {content: \"▸\";float: left;margin-right: 0.25em;color: #696969;}#sk-container-id-2 label.sk-toggleable__label-arrow:hover:before {color: black;}#sk-container-id-2 div.sk-estimator:hover label.sk-toggleable__label-arrow:before {color: black;}#sk-container-id-2 div.sk-toggleable__content {max-height: 0;max-width: 0;overflow: hidden;text-align: left;background-color: #f0f8ff;}#sk-container-id-2 div.sk-toggleable__content pre {margin: 0.2em;color: black;border-radius: 0.25em;background-color: #f0f8ff;}#sk-container-id-2 input.sk-toggleable__control:checked~div.sk-toggleable__content {max-height: 200px;max-width: 100%;overflow: auto;}#sk-container-id-2 input.sk-toggleable__control:checked~label.sk-toggleable__label-arrow:before {content: \"▾\";}#sk-container-id-2 div.sk-estimator input.sk-toggleable__control:checked~label.sk-toggleable__label {background-color: #d4ebff;}#sk-container-id-2 div.sk-label input.sk-toggleable__control:checked~label.sk-toggleable__label {background-color: #d4ebff;}#sk-container-id-2 input.sk-hidden--visually {border: 0;clip: rect(1px 1px 1px 1px);clip: rect(1px, 1px, 1px, 1px);height: 1px;margin: -1px;overflow: hidden;padding: 0;position: absolute;width: 1px;}#sk-container-id-2 div.sk-estimator {font-family: monospace;background-color: #f0f8ff;border: 1px dotted black;border-radius: 0.25em;box-sizing: border-box;margin-bottom: 0.5em;}#sk-container-id-2 div.sk-estimator:hover {background-color: #d4ebff;}#sk-container-id-2 div.sk-parallel-item::after {content: \"\";width: 100%;border-bottom: 1px solid gray;flex-grow: 1;}#sk-container-id-2 div.sk-label:hover label.sk-toggleable__label {background-color: #d4ebff;}#sk-container-id-2 div.sk-serial::before {content: \"\";position: absolute;border-left: 1px solid gray;box-sizing: border-box;top: 0;bottom: 0;left: 50%;z-index: 0;}#sk-container-id-2 div.sk-serial {display: flex;flex-direction: column;align-items: center;background-color: white;padding-right: 0.2em;padding-left: 0.2em;position: relative;}#sk-container-id-2 div.sk-item {position: relative;z-index: 1;}#sk-container-id-2 div.sk-parallel {display: flex;align-items: stretch;justify-content: center;background-color: white;position: relative;}#sk-container-id-2 div.sk-item::before, #sk-container-id-2 div.sk-parallel-item::before {content: \"\";position: absolute;border-left: 1px solid gray;box-sizing: border-box;top: 0;bottom: 0;left: 50%;z-index: -1;}#sk-container-id-2 div.sk-parallel-item {display: flex;flex-direction: column;z-index: 1;position: relative;background-color: white;}#sk-container-id-2 div.sk-parallel-item:first-child::after {align-self: flex-end;width: 50%;}#sk-container-id-2 div.sk-parallel-item:last-child::after {align-self: flex-start;width: 50%;}#sk-container-id-2 div.sk-parallel-item:only-child::after {width: 0;}#sk-container-id-2 div.sk-dashed-wrapped {border: 1px dashed gray;margin: 0 0.4em 0.5em 0.4em;box-sizing: border-box;padding-bottom: 0.4em;background-color: white;}#sk-container-id-2 div.sk-label label {font-family: monospace;font-weight: bold;display: inline-block;line-height: 1.2em;}#sk-container-id-2 div.sk-label-container {text-align: center;}#sk-container-id-2 div.sk-container {/* jupyter's `normalize.less` sets `[hidden] { display: none; }` but bootstrap.min.css set `[hidden] { display: none !important; }` so we also need the `!important` here to be able to override the default hidden behavior on the sphinx rendered scikit-learn.org. See: https://github.com/scikit-learn/scikit-learn/issues/21755 */display: inline-block !important;position: relative;}#sk-container-id-2 div.sk-text-repr-fallback {display: none;}</style><div id=\"sk-container-id-2\" class=\"sk-top-container\"><div class=\"sk-text-repr-fallback\"><pre>DecisionTreeClassifier(criterion=&#x27;entropy&#x27;, max_depth=6, max_leaf_nodes=20,\n",
       "                       min_samples_leaf=30, random_state=0)</pre><b>In a Jupyter environment, please rerun this cell to show the HTML representation or trust the notebook. <br />On GitHub, the HTML representation is unable to render, please try loading this page with nbviewer.org.</b></div><div class=\"sk-container\" hidden><div class=\"sk-item\"><div class=\"sk-estimator sk-toggleable\"><input class=\"sk-toggleable__control sk-hidden--visually\" id=\"sk-estimator-id-4\" type=\"checkbox\" checked><label for=\"sk-estimator-id-4\" class=\"sk-toggleable__label sk-toggleable__label-arrow\">DecisionTreeClassifier</label><div class=\"sk-toggleable__content\"><pre>DecisionTreeClassifier(criterion=&#x27;entropy&#x27;, max_depth=6, max_leaf_nodes=20,\n",
       "                       min_samples_leaf=30, random_state=0)</pre></div></div></div></div></div>"
      ],
      "text/plain": [
       "DecisionTreeClassifier(criterion='entropy', max_depth=6, max_leaf_nodes=20,\n",
       "                       min_samples_leaf=30, random_state=0)"
      ]
     },
     "execution_count": 28,
     "metadata": {},
     "output_type": "execute_result"
    }
   ],
   "source": [
    "best_DT_model = grid_search.best_estimator_\n",
    "best_DT_model"
   ]
  },
  {
   "cell_type": "code",
   "execution_count": 29,
   "id": "9d3b2110",
   "metadata": {
    "scrolled": true
   },
   "outputs": [
    {
     "name": "stdout",
     "output_type": "stream",
     "text": [
      "Train accuracy (DT optimized): 0.720\n",
      "Validation accuracy (DT optimized): 0.715\n"
     ]
    }
   ],
   "source": [
    "train_accuracy_DT_opt = best_DT_model.score(X_train_t_tr, Y_train_t_tr)\n",
    "val_accuracy_DT_opt = best_DT_model.score(X_train_t_val, Y_train_t_val)\n",
    "print('Train accuracy (DT optimized): %.3f'%train_accuracy_DT_opt)\n",
    "print('Validation accuracy (DT optimized): %.3f'%val_accuracy_DT_opt)"
   ]
  },
  {
   "cell_type": "code",
   "execution_count": 30,
   "id": "f8e27baa",
   "metadata": {},
   "outputs": [],
   "source": [
    "cv_results_best_tree = cross_validate(DecisionTreeClassifier(**best_DT_model.get_params()), \n",
    "                                      X_train_t, Y_train, cv=5, return_estimator=True)"
   ]
  },
  {
   "cell_type": "code",
   "execution_count": 31,
   "id": "d4ec7e78",
   "metadata": {},
   "outputs": [
    {
     "name": "stdout",
     "output_type": "stream",
     "text": [
      "The test score for best decision tree is [0.69011407 0.71546261 0.72306717 0.71972099 0.71845276]\n",
      "Best Classification tree - CV accuracy score 0.713\n",
      "Best Classification tree - validation accuracy score: 0.715\n"
     ]
    }
   ],
   "source": [
    "print('The test score for best decision tree is {}'.format(cv_results_best_tree['test_score']))\n",
    "print('Best Classification tree - CV accuracy score %.3f'%cv_results_best_tree['test_score'].mean()) \n",
    "print('Best Classification tree - validation accuracy score: %.3f'%accuracy_score(Y_train_t_val, best_DT_model.predict(X_train_t_val)))"
   ]
  },
  {
   "cell_type": "markdown",
   "id": "b05c2da2",
   "metadata": {},
   "source": [
    "#### Create `Confusion Matrix`"
   ]
  },
  {
   "cell_type": "code",
   "execution_count": 32,
   "id": "9d6cea3f",
   "metadata": {},
   "outputs": [
    {
     "data": {
      "text/plain": [
       "array([[634, 293],\n",
       "       [269, 776]])"
      ]
     },
     "execution_count": 32,
     "metadata": {},
     "output_type": "execute_result"
    }
   ],
   "source": [
    "from sklearn.metrics import confusion_matrix\n",
    "Y_pred_val = best_DT_model.predict(X_train_t_val)\n",
    "DT_conf_matrix = confusion_matrix(Y_train_t_val, Y_pred_val)\n",
    "DT_conf_matrix"
   ]
  },
  {
   "cell_type": "markdown",
   "id": "23b74f2b",
   "metadata": {},
   "source": [
    "####  Draw the ROC curve for our model `best_DT_model`"
   ]
  },
  {
   "cell_type": "code",
   "execution_count": 33,
   "id": "e58f5acb",
   "metadata": {},
   "outputs": [],
   "source": [
    "from sklearn.metrics import accuracy_score, recall_score, precision_score, f1_score\n",
    "accuracy = accuracy_score(Y_train_t_val, Y_pred_val)\n",
    "tpr = recall = recall_score(Y_train_t_val, Y_pred_val)\n",
    "precision = precision_score(Y_train_t_val, Y_pred_val)"
   ]
  },
  {
   "cell_type": "code",
   "execution_count": 34,
   "id": "1cb54c3e",
   "metadata": {},
   "outputs": [
    {
     "data": {
      "image/png": "[encoded data removed]",
      "text/plain": [
       "<Figure size 360x360 with 1 Axes>"
      ]
     },
     "metadata": {
      "needs_background": "light"
     },
     "output_type": "display_data"
    }
   ],
   "source": [
    "from sklearn import metrics\n",
    "scores = best_DT_model.predict_proba(X_train_t_val)[:,1]\n",
    "fpr, tpr, thresholds = metrics.roc_curve(Y_train_t_val, scores)\n",
    "auc = metrics.auc(fpr, tpr)\n",
    "optimal_idx = np.argmax(tpr - fpr)\n",
    "optimal_threshold = thresholds[optimal_idx]\n",
    "plt.figure(figsize=(5,5))\n",
    "lw = 2\n",
    "plt.plot(fpr, tpr, color='darkorange', lw=lw, label='ROC curve (area = %0.2f)'% auc)\n",
    "plt.plot([0, 1], [0, 1], color='navy', lw=lw, linestyle='--')\n",
    "plt.xlim([0.0, 1.0])\n",
    "plt.ylim([0.0, 1.05])\n",
    "plt.xlabel('False Positive Rate')\n",
    "plt.ylabel('True Positive Rate (Recall)')\n",
    "plt.title('Receiver Operating Characteristic for Decision Tree')\n",
    "plt.legend(loc=\"lower right\");\n",
    "plt.plot(fpr[optimal_idx], tpr[optimal_idx], marker=\"x\",markeredgewidth=5, markersize=12);"
   ]
  },
  {
   "cell_type": "code",
   "execution_count": 35,
   "id": "036cbdbe",
   "metadata": {},
   "outputs": [
    {
     "name": "stdout",
     "output_type": "stream",
     "text": [
      "              precision    recall  f1-score   support\n",
      "\n",
      "           0       0.70      0.68      0.69       927\n",
      "           1       0.73      0.74      0.73      1045\n",
      "\n",
      "    accuracy                           0.72      1972\n",
      "   macro avg       0.71      0.71      0.71      1972\n",
      "weighted avg       0.71      0.72      0.71      1972\n",
      "\n"
     ]
    }
   ],
   "source": [
    "from sklearn.metrics import classification_report\n",
    "DT_report = classification_report(Y_train_t_val, Y_pred_val)\n",
    "print(DT_report)"
   ]
  },
  {
   "cell_type": "code",
   "execution_count": 36,
   "id": "69894822",
   "metadata": {
    "scrolled": true
   },
   "outputs": [
    {
     "name": "stdout",
     "output_type": "stream",
     "text": [
      "Accuracy: 0.72, Recall: 0.74, Precision: 0.73 \n",
      "\n",
      "Put differently, our predictions are correct 72% of the time, the model catches 74% of the defaulting customers, and the model is correct 73% of times it predicts 'Bad'.\n"
     ]
    }
   ],
   "source": [
    "print(\"Accuracy: %.2f, Recall: %.2f, Precision: %.2f\" % (accuracy, recall, precision), '\\n')\n",
    "print(\"Put differently, our predictions are correct %.0f%% of the time, the model catches %.0f%% of the defaulting customers, and the model is correct %.0f%% of times it predicts 'Bad'.\" % (accuracy * 100, recall * 100, precision * 100))"
   ]
  },
  {
   "cell_type": "markdown",
   "id": "4125cee3",
   "metadata": {},
   "source": [
    "---"
   ]
  },
  {
   "cell_type": "markdown",
   "id": "22e41a86",
   "metadata": {},
   "source": [
    "### Ensemble methods - Random Forests"
   ]
  },
  {
   "cell_type": "code",
   "execution_count": 37,
   "id": "6cf32091",
   "metadata": {},
   "outputs": [],
   "source": [
    "from sklearn.ensemble import RandomForestClassifier\n",
    "rf = RandomForestClassifier(max_depth=1, random_state=0).fit(X_train_t_tr, Y_train_t_tr)"
   ]
  },
  {
   "cell_type": "code",
   "execution_count": 38,
   "id": "503114c1",
   "metadata": {},
   "outputs": [
    {
     "name": "stdout",
     "output_type": "stream",
     "text": [
      "Random forests Train accuracy: 0.712\n",
      "Random forests Validation accuracy: 0.718\n"
     ]
    }
   ],
   "source": [
    "print('Random forests Train accuracy: %.3f'%rf.score(X_train_t_tr, Y_train_t_tr))\n",
    "print('Random forests Validation accuracy: %.3f'%rf.score(X_train_t_val, Y_train_t_val))"
   ]
  },
  {
   "cell_type": "markdown",
   "id": "a76ee142",
   "metadata": {},
   "source": [
    "#### Utilize `Cross-validation`"
   ]
  },
  {
   "cell_type": "code",
   "execution_count": 39,
   "id": "ca9058f0",
   "metadata": {},
   "outputs": [],
   "source": [
    "cv_results_rf = cross_validate(RandomForestClassifier(**rf.get_params()), \n",
    "                            X_train_t,Y_train, cv=5, return_estimator=True)"
   ]
  },
  {
   "cell_type": "code",
   "execution_count": 40,
   "id": "663708f8",
   "metadata": {},
   "outputs": [
    {
     "name": "stdout",
     "output_type": "stream",
     "text": [
      "The test score for Random Forests is [0.68948035 0.71356147 0.71102662 0.71337984 0.7241598 ]\n",
      "Random Forests - CV accuracy score 0.710\n",
      "Random Forests - validation accuracy score: 0.718\n"
     ]
    }
   ],
   "source": [
    "print('The test score for Random Forests is {}'.format(cv_results_rf['test_score']))\n",
    "print('Random Forests - CV accuracy score %.3f'%cv_results_rf['test_score'].mean()) \n",
    "print('Random Forests - validation accuracy score: %.3f'%accuracy_score(Y_train_t_val, rf.predict(X_train_t_val)))"
   ]
  },
  {
   "cell_type": "markdown",
   "id": "b79e798d",
   "metadata": {},
   "source": [
    "#### Perform `hyper-parameter tuning`"
   ]
  },
  {
   "cell_type": "code",
   "execution_count": 41,
   "id": "fea4fad5",
   "metadata": {
    "scrolled": true
   },
   "outputs": [
    {
     "data": {
      "image/png": "[encoded data removed]",
      "text/plain": [
       "<Figure size 432x288 with 1 Axes>"
      ]
     },
     "metadata": {
      "needs_background": "light"
     },
     "output_type": "display_data"
    }
   ],
   "source": [
    "n_range = range(10, 200, 10)\n",
    "train_accuracies = [RandomForestClassifier(n_estimators = n, max_depth = 1, random_state = 0). \\\n",
    "                    fit(X_train_t_tr, Y_train_t_tr). \\\n",
    "                    score(X_train_t_tr, Y_train_t_tr) for n in n_range]\n",
    "val_accuracies = [RandomForestClassifier(n_estimators = n, max_depth = 1, random_state = 0). \\\n",
    "                  fit(X_train_t_tr, Y_train_t_tr). \\\n",
    "                  score(X_train_t_val, Y_train_t_val) for n in n_range]\n",
    "rf_accuracy = pd.DataFrame({\n",
    "    'Train accuracy': train_accuracies,\n",
    "    'Validation accuracy': val_accuracies\n",
    "}, index = pd.Index(n_range, name = 'n_estimators'))\n",
    "rf_accuracy.plot();"
   ]
  },
  {
   "cell_type": "code",
   "execution_count": 42,
   "id": "54baf489",
   "metadata": {},
   "outputs": [
    {
     "data": {
      "text/html": [
       "<style>#sk-container-id-3 {color: black;}#sk-container-id-3 pre{padding: 0;}#sk-container-id-3 div.sk-toggleable {background-color: white;}#sk-container-id-3 label.sk-toggleable__label {cursor: pointer;display: block;width: 100%;margin-bottom: 0;padding: 0.3em;box-sizing: border-box;text-align: center;}#sk-container-id-3 label.sk-toggleable__label-arrow:before {content: \"▸\";float: left;margin-right: 0.25em;color: #696969;}#sk-container-id-3 label.sk-toggleable__label-arrow:hover:before {color: black;}#sk-container-id-3 div.sk-estimator:hover label.sk-toggleable__label-arrow:before {color: black;}#sk-container-id-3 div.sk-toggleable__content {max-height: 0;max-width: 0;overflow: hidden;text-align: left;background-color: #f0f8ff;}#sk-container-id-3 div.sk-toggleable__content pre {margin: 0.2em;color: black;border-radius: 0.25em;background-color: #f0f8ff;}#sk-container-id-3 input.sk-toggleable__control:checked~div.sk-toggleable__content {max-height: 200px;max-width: 100%;overflow: auto;}#sk-container-id-3 input.sk-toggleable__control:checked~label.sk-toggleable__label-arrow:before {content: \"▾\";}#sk-container-id-3 div.sk-estimator input.sk-toggleable__control:checked~label.sk-toggleable__label {background-color: #d4ebff;}#sk-container-id-3 div.sk-label input.sk-toggleable__control:checked~label.sk-toggleable__label {background-color: #d4ebff;}#sk-container-id-3 input.sk-hidden--visually {border: 0;clip: rect(1px 1px 1px 1px);clip: rect(1px, 1px, 1px, 1px);height: 1px;margin: -1px;overflow: hidden;padding: 0;position: absolute;width: 1px;}#sk-container-id-3 div.sk-estimator {font-family: monospace;background-color: #f0f8ff;border: 1px dotted black;border-radius: 0.25em;box-sizing: border-box;margin-bottom: 0.5em;}#sk-container-id-3 div.sk-estimator:hover {background-color: #d4ebff;}#sk-container-id-3 div.sk-parallel-item::after {content: \"\";width: 100%;border-bottom: 1px solid gray;flex-grow: 1;}#sk-container-id-3 div.sk-label:hover label.sk-toggleable__label {background-color: #d4ebff;}#sk-container-id-3 div.sk-serial::before {content: \"\";position: absolute;border-left: 1px solid gray;box-sizing: border-box;top: 0;bottom: 0;left: 50%;z-index: 0;}#sk-container-id-3 div.sk-serial {display: flex;flex-direction: column;align-items: center;background-color: white;padding-right: 0.2em;padding-left: 0.2em;position: relative;}#sk-container-id-3 div.sk-item {position: relative;z-index: 1;}#sk-container-id-3 div.sk-parallel {display: flex;align-items: stretch;justify-content: center;background-color: white;position: relative;}#sk-container-id-3 div.sk-item::before, #sk-container-id-3 div.sk-parallel-item::before {content: \"\";position: absolute;border-left: 1px solid gray;box-sizing: border-box;top: 0;bottom: 0;left: 50%;z-index: -1;}#sk-container-id-3 div.sk-parallel-item {display: flex;flex-direction: column;z-index: 1;position: relative;background-color: white;}#sk-container-id-3 div.sk-parallel-item:first-child::after {align-self: flex-end;width: 50%;}#sk-container-id-3 div.sk-parallel-item:last-child::after {align-self: flex-start;width: 50%;}#sk-container-id-3 div.sk-parallel-item:only-child::after {width: 0;}#sk-container-id-3 div.sk-dashed-wrapped {border: 1px dashed gray;margin: 0 0.4em 0.5em 0.4em;box-sizing: border-box;padding-bottom: 0.4em;background-color: white;}#sk-container-id-3 div.sk-label label {font-family: monospace;font-weight: bold;display: inline-block;line-height: 1.2em;}#sk-container-id-3 div.sk-label-container {text-align: center;}#sk-container-id-3 div.sk-container {/* jupyter's `normalize.less` sets `[hidden] { display: none; }` but bootstrap.min.css set `[hidden] { display: none !important; }` so we also need the `!important` here to be able to override the default hidden behavior on the sphinx rendered scikit-learn.org. See: https://github.com/scikit-learn/scikit-learn/issues/21755 */display: inline-block !important;position: relative;}#sk-container-id-3 div.sk-text-repr-fallback {display: none;}</style><div id=\"sk-container-id-3\" class=\"sk-top-container\"><div class=\"sk-text-repr-fallback\"><pre>GridSearchCV(cv=StratifiedKFold(n_splits=5, random_state=0, shuffle=True),\n",
       "             estimator=RandomForestClassifier(random_state=0),\n",
       "             param_grid=[{&#x27;max_depth&#x27;: range(1, 8),\n",
       "                          &#x27;max_leaf_nodes&#x27;: [2, 4, 8, 16],\n",
       "                          &#x27;min_samples_leaf&#x27;: [10, 20, 100],\n",
       "                          &#x27;n_estimators&#x27;: [10, 20, 50]}],\n",
       "             scoring=&#x27;accuracy&#x27;)</pre><b>In a Jupyter environment, please rerun this cell to show the HTML representation or trust the notebook. <br />On GitHub, the HTML representation is unable to render, please try loading this page with nbviewer.org.</b></div><div class=\"sk-container\" hidden><div class=\"sk-item sk-dashed-wrapped\"><div class=\"sk-label-container\"><div class=\"sk-label sk-toggleable\"><input class=\"sk-toggleable__control sk-hidden--visually\" id=\"sk-estimator-id-5\" type=\"checkbox\" ><label for=\"sk-estimator-id-5\" class=\"sk-toggleable__label sk-toggleable__label-arrow\">GridSearchCV</label><div class=\"sk-toggleable__content\"><pre>GridSearchCV(cv=StratifiedKFold(n_splits=5, random_state=0, shuffle=True),\n",
       "             estimator=RandomForestClassifier(random_state=0),\n",
       "             param_grid=[{&#x27;max_depth&#x27;: range(1, 8),\n",
       "                          &#x27;max_leaf_nodes&#x27;: [2, 4, 8, 16],\n",
       "                          &#x27;min_samples_leaf&#x27;: [10, 20, 100],\n",
       "                          &#x27;n_estimators&#x27;: [10, 20, 50]}],\n",
       "             scoring=&#x27;accuracy&#x27;)</pre></div></div></div><div class=\"sk-parallel\"><div class=\"sk-parallel-item\"><div class=\"sk-item\"><div class=\"sk-label-container\"><div class=\"sk-label sk-toggleable\"><input class=\"sk-toggleable__control sk-hidden--visually\" id=\"sk-estimator-id-6\" type=\"checkbox\" ><label for=\"sk-estimator-id-6\" class=\"sk-toggleable__label sk-toggleable__label-arrow\">estimator: RandomForestClassifier</label><div class=\"sk-toggleable__content\"><pre>RandomForestClassifier(random_state=0)</pre></div></div></div><div class=\"sk-serial\"><div class=\"sk-item\"><div class=\"sk-estimator sk-toggleable\"><input class=\"sk-toggleable__control sk-hidden--visually\" id=\"sk-estimator-id-7\" type=\"checkbox\" ><label for=\"sk-estimator-id-7\" class=\"sk-toggleable__label sk-toggleable__label-arrow\">RandomForestClassifier</label><div class=\"sk-toggleable__content\"><pre>RandomForestClassifier(random_state=0)</pre></div></div></div></div></div></div></div></div></div></div>"
      ],
      "text/plain": [
       "GridSearchCV(cv=StratifiedKFold(n_splits=5, random_state=0, shuffle=True),\n",
       "             estimator=RandomForestClassifier(random_state=0),\n",
       "             param_grid=[{'max_depth': range(1, 8),\n",
       "                          'max_leaf_nodes': [2, 4, 8, 16],\n",
       "                          'min_samples_leaf': [10, 20, 100],\n",
       "                          'n_estimators': [10, 20, 50]}],\n",
       "             scoring='accuracy')"
      ]
     },
     "execution_count": 42,
     "metadata": {},
     "output_type": "execute_result"
    }
   ],
   "source": [
    "param_grid = [{'n_estimators':[10,20,50],\n",
    "               'max_depth':range(1,8),\n",
    "               'min_samples_leaf':[10,20,100],\n",
    "               'max_leaf_nodes':[2,4,8,16]}]\n",
    "\n",
    "grid_search = GridSearchCV(RandomForestClassifier(random_state=0), \n",
    "                           param_grid, \n",
    "                           cv=StratifiedKFold(n_splits=5, shuffle=True, random_state=0), \n",
    "                           scoring='accuracy')\n",
    "\n",
    "grid_search.fit(X_train_t_tr, Y_train_t_tr)"
   ]
  },
  {
   "cell_type": "code",
   "execution_count": 43,
   "id": "37ae43c2",
   "metadata": {},
   "outputs": [
    {
     "data": {
      "text/plain": [
       "{'max_depth': 7,\n",
       " 'max_leaf_nodes': 16,\n",
       " 'min_samples_leaf': 20,\n",
       " 'n_estimators': 10}"
      ]
     },
     "execution_count": 43,
     "metadata": {},
     "output_type": "execute_result"
    }
   ],
   "source": [
    "grid_search.best_params_"
   ]
  },
  {
   "cell_type": "code",
   "execution_count": 44,
   "id": "8e8f01ed",
   "metadata": {},
   "outputs": [
    {
     "data": {
      "text/html": [
       "<style>#sk-container-id-4 {color: black;}#sk-container-id-4 pre{padding: 0;}#sk-container-id-4 div.sk-toggleable {background-color: white;}#sk-container-id-4 label.sk-toggleable__label {cursor: pointer;display: block;width: 100%;margin-bottom: 0;padding: 0.3em;box-sizing: border-box;text-align: center;}#sk-container-id-4 label.sk-toggleable__label-arrow:before {content: \"▸\";float: left;margin-right: 0.25em;color: #696969;}#sk-container-id-4 label.sk-toggleable__label-arrow:hover:before {color: black;}#sk-container-id-4 div.sk-estimator:hover label.sk-toggleable__label-arrow:before {color: black;}#sk-container-id-4 div.sk-toggleable__content {max-height: 0;max-width: 0;overflow: hidden;text-align: left;background-color: #f0f8ff;}#sk-container-id-4 div.sk-toggleable__content pre {margin: 0.2em;color: black;border-radius: 0.25em;background-color: #f0f8ff;}#sk-container-id-4 input.sk-toggleable__control:checked~div.sk-toggleable__content {max-height: 200px;max-width: 100%;overflow: auto;}#sk-container-id-4 input.sk-toggleable__control:checked~label.sk-toggleable__label-arrow:before {content: \"▾\";}#sk-container-id-4 div.sk-estimator input.sk-toggleable__control:checked~label.sk-toggleable__label {background-color: #d4ebff;}#sk-container-id-4 div.sk-label input.sk-toggleable__control:checked~label.sk-toggleable__label {background-color: #d4ebff;}#sk-container-id-4 input.sk-hidden--visually {border: 0;clip: rect(1px 1px 1px 1px);clip: rect(1px, 1px, 1px, 1px);height: 1px;margin: -1px;overflow: hidden;padding: 0;position: absolute;width: 1px;}#sk-container-id-4 div.sk-estimator {font-family: monospace;background-color: #f0f8ff;border: 1px dotted black;border-radius: 0.25em;box-sizing: border-box;margin-bottom: 0.5em;}#sk-container-id-4 div.sk-estimator:hover {background-color: #d4ebff;}#sk-container-id-4 div.sk-parallel-item::after {content: \"\";width: 100%;border-bottom: 1px solid gray;flex-grow: 1;}#sk-container-id-4 div.sk-label:hover label.sk-toggleable__label {background-color: #d4ebff;}#sk-container-id-4 div.sk-serial::before {content: \"\";position: absolute;border-left: 1px solid gray;box-sizing: border-box;top: 0;bottom: 0;left: 50%;z-index: 0;}#sk-container-id-4 div.sk-serial {display: flex;flex-direction: column;align-items: center;background-color: white;padding-right: 0.2em;padding-left: 0.2em;position: relative;}#sk-container-id-4 div.sk-item {position: relative;z-index: 1;}#sk-container-id-4 div.sk-parallel {display: flex;align-items: stretch;justify-content: center;background-color: white;position: relative;}#sk-container-id-4 div.sk-item::before, #sk-container-id-4 div.sk-parallel-item::before {content: \"\";position: absolute;border-left: 1px solid gray;box-sizing: border-box;top: 0;bottom: 0;left: 50%;z-index: -1;}#sk-container-id-4 div.sk-parallel-item {display: flex;flex-direction: column;z-index: 1;position: relative;background-color: white;}#sk-container-id-4 div.sk-parallel-item:first-child::after {align-self: flex-end;width: 50%;}#sk-container-id-4 div.sk-parallel-item:last-child::after {align-self: flex-start;width: 50%;}#sk-container-id-4 div.sk-parallel-item:only-child::after {width: 0;}#sk-container-id-4 div.sk-dashed-wrapped {border: 1px dashed gray;margin: 0 0.4em 0.5em 0.4em;box-sizing: border-box;padding-bottom: 0.4em;background-color: white;}#sk-container-id-4 div.sk-label label {font-family: monospace;font-weight: bold;display: inline-block;line-height: 1.2em;}#sk-container-id-4 div.sk-label-container {text-align: center;}#sk-container-id-4 div.sk-container {/* jupyter's `normalize.less` sets `[hidden] { display: none; }` but bootstrap.min.css set `[hidden] { display: none !important; }` so we also need the `!important` here to be able to override the default hidden behavior on the sphinx rendered scikit-learn.org. See: https://github.com/scikit-learn/scikit-learn/issues/21755 */display: inline-block !important;position: relative;}#sk-container-id-4 div.sk-text-repr-fallback {display: none;}</style><div id=\"sk-container-id-4\" class=\"sk-top-container\"><div class=\"sk-text-repr-fallback\"><pre>RandomForestClassifier(max_depth=7, max_leaf_nodes=16, min_samples_leaf=20,\n",
       "                       n_estimators=10, random_state=0)</pre><b>In a Jupyter environment, please rerun this cell to show the HTML representation or trust the notebook. <br />On GitHub, the HTML representation is unable to render, please try loading this page with nbviewer.org.</b></div><div class=\"sk-container\" hidden><div class=\"sk-item\"><div class=\"sk-estimator sk-toggleable\"><input class=\"sk-toggleable__control sk-hidden--visually\" id=\"sk-estimator-id-8\" type=\"checkbox\" checked><label for=\"sk-estimator-id-8\" class=\"sk-toggleable__label sk-toggleable__label-arrow\">RandomForestClassifier</label><div class=\"sk-toggleable__content\"><pre>RandomForestClassifier(max_depth=7, max_leaf_nodes=16, min_samples_leaf=20,\n",
       "                       n_estimators=10, random_state=0)</pre></div></div></div></div></div>"
      ],
      "text/plain": [
       "RandomForestClassifier(max_depth=7, max_leaf_nodes=16, min_samples_leaf=20,\n",
       "                       n_estimators=10, random_state=0)"
      ]
     },
     "execution_count": 44,
     "metadata": {},
     "output_type": "execute_result"
    }
   ],
   "source": [
    "best_RF_model = grid_search.best_estimator_\n",
    "best_RF_model"
   ]
  },
  {
   "cell_type": "code",
   "execution_count": 45,
   "id": "5ebd99a9",
   "metadata": {},
   "outputs": [
    {
     "name": "stdout",
     "output_type": "stream",
     "text": [
      "Train accuracy (RF optimized): 0.730\n",
      "Validation accuracy (RF optimized): 0.722\n"
     ]
    }
   ],
   "source": [
    "train_accuracy_RF_opt = best_RF_model.score(X_train_t_tr, Y_train_t_tr)\n",
    "val_accuracy_RF_opt = best_RF_model.score(X_train_t_val, Y_train_t_val)\n",
    "print('Train accuracy (RF optimized): %.3f'%train_accuracy_RF_opt)\n",
    "print('Validation accuracy (RF optimized): %.3f'%val_accuracy_RF_opt)"
   ]
  },
  {
   "cell_type": "code",
   "execution_count": 46,
   "id": "280592e3",
   "metadata": {},
   "outputs": [
    {
     "data": {
      "image/png": "[encoded data removed]",
      "text/plain": [
       "<Figure size 1080x360 with 1 Axes>"
      ]
     },
     "metadata": {
      "needs_background": "light"
     },
     "output_type": "display_data"
    }
   ],
   "source": [
    "# plot feature importance\n",
    "pd.Series(data=grid_search.best_estimator_.feature_importances_, \n",
    "          index=column_names).sort_values().plot.bar(figsize=(15,5), \n",
    "                                                     title='Feature importance of best RF model');"
   ]
  },
  {
   "cell_type": "markdown",
   "id": "88375457",
   "metadata": {},
   "source": [
    "#### Create `Confusion Matrix`"
   ]
  },
  {
   "cell_type": "code",
   "execution_count": 47,
   "id": "a16b8c1d",
   "metadata": {},
   "outputs": [
    {
     "data": {
      "text/plain": [
       "array([[603, 324],\n",
       "       [225, 820]])"
      ]
     },
     "execution_count": 47,
     "metadata": {},
     "output_type": "execute_result"
    }
   ],
   "source": [
    "Y_pred_val = best_RF_model.predict(X_train_t_val)\n",
    "RF_conf_matrix = confusion_matrix(Y_train_t_val, Y_pred_val)\n",
    "RF_conf_matrix"
   ]
  },
  {
   "cell_type": "markdown",
   "id": "f0d83a81",
   "metadata": {},
   "source": [
    "####  Draw the ROC curve for our model `best_RF_model`"
   ]
  },
  {
   "cell_type": "code",
   "execution_count": 48,
   "id": "63c15356",
   "metadata": {},
   "outputs": [],
   "source": [
    "accuracy = accuracy_score(Y_train_t_val, Y_pred_val)\n",
    "tpr = recall = recall_score(Y_train_t_val, Y_pred_val)\n",
    "precision = precision_score(Y_train_t_val, Y_pred_val)"
   ]
  },
  {
   "cell_type": "code",
   "execution_count": 49,
   "id": "4026ef10",
   "metadata": {
    "scrolled": false
   },
   "outputs": [
    {
     "data": {
      "image/png": "[encoded data removed]",
      "text/plain": [
       "<Figure size 360x360 with 1 Axes>"
      ]
     },
     "metadata": {
      "needs_background": "light"
     },
     "output_type": "display_data"
    }
   ],
   "source": [
    "from sklearn.metrics import roc_curve, auc\n",
    "probs = best_RF_model.predict_proba(X_train_t_val)[:, 1]\n",
    "fpr, tpr, thresholds = roc_curve(Y_train_t_val, probs)\n",
    "roc_auc = auc(fpr, tpr)\n",
    "optimal_idx = np.argmax(tpr - fpr)\n",
    "optimal_threshold = thresholds[optimal_idx]\n",
    "plt.figure(figsize=(5,5))\n",
    "plt.plot(fpr, tpr, color='darkorange', lw=2, label='ROC curve (area = %0.2f)' % roc_auc)\n",
    "plt.plot([0, 1], [0, 1], color='navy', lw=2, linestyle='--')\n",
    "plt.xlim([0.0, 1.0])\n",
    "plt.ylim([0.0, 1.05])\n",
    "plt.xlabel('False Positive Rate')\n",
    "plt.ylabel('True Positive Rate (Recall)')\n",
    "plt.title('Receiver Operating Characteristic for Random Forest')\n",
    "plt.legend(loc=\"lower right\");\n",
    "plt.plot(fpr[optimal_idx], tpr[optimal_idx], marker=\"x\",markeredgewidth=5, markersize=12);"
   ]
  },
  {
   "cell_type": "code",
   "execution_count": 50,
   "id": "f8e5ab56",
   "metadata": {
    "scrolled": true
   },
   "outputs": [
    {
     "name": "stdout",
     "output_type": "stream",
     "text": [
      "              precision    recall  f1-score   support\n",
      "\n",
      "           0       0.73      0.65      0.69       927\n",
      "           1       0.72      0.78      0.75      1045\n",
      "\n",
      "    accuracy                           0.72      1972\n",
      "   macro avg       0.72      0.72      0.72      1972\n",
      "weighted avg       0.72      0.72      0.72      1972\n",
      "\n"
     ]
    }
   ],
   "source": [
    "RF_report = classification_report(Y_train_t_val, Y_pred_val)\n",
    "print(RF_report)"
   ]
  },
  {
   "cell_type": "code",
   "execution_count": 51,
   "id": "20602854",
   "metadata": {},
   "outputs": [
    {
     "name": "stdout",
     "output_type": "stream",
     "text": [
      "Accuracy: 0.72, Recall: 0.78, Precision: 0.72 \n",
      "\n",
      "Put differently, our predictions are correct 72% of the time, the model catches 78% of the defaulting customers, and the model is correct 72% of times it predicts 'Bad'.\n"
     ]
    }
   ],
   "source": [
    "print(\"Accuracy: %.2f, Recall: %.2f, Precision: %.2f\" % (accuracy, recall, precision), '\\n')\n",
    "print(\"Put differently, our predictions are correct %.0f%% of the time, the model catches %.0f%% of the defaulting customers, and the model is correct %.0f%% of times it predicts 'Bad'.\" % (accuracy * 100, recall * 100, precision * 100))"
   ]
  },
  {
   "cell_type": "markdown",
   "id": "b7b1884a",
   "metadata": {},
   "source": [
    "---"
   ]
  },
  {
   "cell_type": "markdown",
   "id": "f6992cfe",
   "metadata": {},
   "source": [
    "### Ensemble methods - Boosting"
   ]
  },
  {
   "cell_type": "code",
   "execution_count": 52,
   "id": "4d742184",
   "metadata": {},
   "outputs": [],
   "source": [
    "from sklearn.ensemble import AdaBoostClassifier\n",
    "clf_boosting = AdaBoostClassifier(random_state=0).fit(X_train_t_tr, Y_train_t_tr)"
   ]
  },
  {
   "cell_type": "code",
   "execution_count": 53,
   "id": "f553cdaf",
   "metadata": {},
   "outputs": [],
   "source": [
    "train_accuracy_boosting = clf_boosting.score(X_train_t_tr, Y_train_t_tr)\n",
    "val_accuracy_boosting = clf_boosting.score(X_train_t_val, Y_train_t_val)"
   ]
  },
  {
   "cell_type": "code",
   "execution_count": 54,
   "id": "0e31540d",
   "metadata": {
    "scrolled": true
   },
   "outputs": [
    {
     "name": "stdout",
     "output_type": "stream",
     "text": [
      "Train accuracy (boosting): 0.737\n",
      "Validation accuracy (boosting): 0.731\n",
      "\n",
      "Train accuracy (RF optimized): 0.730\n",
      "Validation accuracy (RF optimized): 0.722\n",
      "\n",
      "Train accuracy (DT optimized): 0.720\n",
      "Validation accuracy (DT optimized): 0.715\n"
     ]
    }
   ],
   "source": [
    "print('Train accuracy (boosting): %.3f'%train_accuracy_boosting)\n",
    "print('Validation accuracy (boosting): %.3f'%val_accuracy_boosting)\n",
    "print('\\nTrain accuracy (RF optimized): %.3f'%train_accuracy_RF_opt)\n",
    "print('Validation accuracy (RF optimized): %.3f'%val_accuracy_RF_opt)\n",
    "train_accuracy_DT = best_DT_model.score(X_train_t_tr, Y_train_t_tr)\n",
    "val_accuracy_DT = best_DT_model.score(X_train_t_val, Y_train_t_val)\n",
    "print('\\nTrain accuracy (DT optimized): %.3f'%train_accuracy_DT)\n",
    "print('Validation accuracy (DT optimized): %.3f'%val_accuracy_DT)"
   ]
  },
  {
   "cell_type": "markdown",
   "id": "65ad7d57",
   "metadata": {},
   "source": [
    "#### Utilize `Cross-validation`"
   ]
  },
  {
   "cell_type": "code",
   "execution_count": 55,
   "id": "1f801289",
   "metadata": {},
   "outputs": [],
   "source": [
    "cv_results_boosting = cross_validate(AdaBoostClassifier(**clf_boosting.get_params()), \n",
    "                                     X_train_t,Y_train, cv=5, return_estimator=True)"
   ]
  },
  {
   "cell_type": "code",
   "execution_count": 56,
   "id": "d26cad4c",
   "metadata": {
    "scrolled": true
   },
   "outputs": [
    {
     "name": "stdout",
     "output_type": "stream",
     "text": [
      "The test score for Boosting is [0.6964512  0.73193916 0.73130545 0.73303741 0.75015853]\n",
      "Boosting - CV accuracy score 0.729\n",
      "Boosting - validation accuracy score: 0.731\n"
     ]
    }
   ],
   "source": [
    "print('The test score for Boosting is {}'.format(cv_results_boosting['test_score']))\n",
    "print('Boosting - CV accuracy score %.3f'%cv_results_boosting['test_score'].mean()) \n",
    "print('Boosting - validation accuracy score: %.3f'%accuracy_score(Y_train_t_val, clf_boosting.predict(X_train_t_val)))"
   ]
  },
  {
   "cell_type": "markdown",
   "id": "e5ef84ac",
   "metadata": {},
   "source": [
    "#### Perform `hyper-parameter tuning`"
   ]
  },
  {
   "cell_type": "code",
   "execution_count": 57,
   "id": "e1e68f17",
   "metadata": {
    "scrolled": true
   },
   "outputs": [
    {
     "data": {
      "image/png": "[encoded data removed]",
      "text/plain": [
       "<Figure size 432x288 with 1 Axes>"
      ]
     },
     "metadata": {
      "needs_background": "light"
     },
     "output_type": "display_data"
    }
   ],
   "source": [
    "n_range = range(10, 400, 10)\n",
    "train_accuracies = [AdaBoostClassifier(n_estimators = n, learning_rate = 1, random_state = 0). \\\n",
    "                    fit(X_train_t_tr, Y_train_t_tr). \\\n",
    "                    score(X_train_t_tr, Y_train_t_tr) for n in n_range]\n",
    "val_accuracies = [AdaBoostClassifier(n_estimators = n, learning_rate = 1, random_state = 0). \\\n",
    "                  fit(X_train_t_tr, Y_train_t_tr). \\\n",
    "                  score(X_train_t_val, Y_train_t_val) for n in n_range]\n",
    "boosting_accuracy_learning_rate_1 = pd.DataFrame({\n",
    "    'Train accuracy': train_accuracies,\n",
    "    'Validation accuracy': val_accuracies\n",
    "}, index = pd.Index(n_range, name = 'n_estimators'))\n",
    "boosting_accuracy_learning_rate_1.plot();"
   ]
  },
  {
   "cell_type": "code",
   "execution_count": 58,
   "id": "8b6f4618",
   "metadata": {},
   "outputs": [
    {
     "name": "stdout",
     "output_type": "stream",
     "text": [
      "Fitting 5 folds for each of 18 candidates, totalling 90 fits\n",
      "Best parameters: {'estimator': DecisionTreeClassifier(max_depth=1), 'learning_rate': 0.1, 'n_estimators': 200}\n",
      "Best cross-validated accuracy: 0.7293788981288982\n"
     ]
    }
   ],
   "source": [
    "estimator = DecisionTreeClassifier(max_depth=1)\n",
    "param_grid = {\n",
    "    'estimator': [estimator], \n",
    "    'n_estimators': [10, 50, 100, 200, 300, 400],\n",
    "    'learning_rate': [0.01, 0.1, 1]\n",
    "}\n",
    "ada_boost = AdaBoostClassifier(random_state=0)\n",
    "grid_search = GridSearchCV(ada_boost, param_grid, cv=StratifiedKFold(n_splits=5),\n",
    "                           scoring='accuracy', verbose=1)\n",
    "\n",
    "grid_search.fit(X_train_t_tr, Y_train_t_tr)\n",
    "print(\"Best parameters:\", grid_search.best_params_)\n",
    "print(\"Best cross-validated accuracy:\", grid_search.best_score_)"
   ]
  },
  {
   "cell_type": "code",
   "execution_count": 59,
   "id": "16ec0330",
   "metadata": {},
   "outputs": [],
   "source": [
    "best_Boosting_model = grid_search.best_estimator_"
   ]
  },
  {
   "cell_type": "markdown",
   "id": "816e2c61",
   "metadata": {},
   "source": [
    "#### Create `Confusion Matrix`"
   ]
  },
  {
   "cell_type": "code",
   "execution_count": 60,
   "id": "39531dc0",
   "metadata": {},
   "outputs": [
    {
     "data": {
      "text/plain": [
       "array([[650, 277],\n",
       "       [241, 804]])"
      ]
     },
     "execution_count": 60,
     "metadata": {},
     "output_type": "execute_result"
    }
   ],
   "source": [
    "Y_pred_val = best_Boosting_model.predict(X_train_t_val)\n",
    "Boosting_conf_matrix = confusion_matrix(Y_train_t_val, Y_pred_val)\n",
    "Boosting_conf_matrix"
   ]
  },
  {
   "cell_type": "markdown",
   "id": "14f7f1f3",
   "metadata": {},
   "source": [
    "####  Draw the ROC curve for our model `best_Boosting_model`"
   ]
  },
  {
   "cell_type": "code",
   "execution_count": 61,
   "id": "0cbaa00a",
   "metadata": {},
   "outputs": [],
   "source": [
    "accuracy = accuracy_score(Y_train_t_val, Y_pred_val)\n",
    "tpr = recall = recall_score(Y_train_t_val, Y_pred_val)\n",
    "precision = precision_score(Y_train_t_val, Y_pred_val)"
   ]
  },
  {
   "cell_type": "code",
   "execution_count": 62,
   "id": "e1e25f83",
   "metadata": {},
   "outputs": [
    {
     "data": {
      "image/png": "[encoded data removed]",
      "text/plain": [
       "<Figure size 360x360 with 1 Axes>"
      ]
     },
     "metadata": {
      "needs_background": "light"
     },
     "output_type": "display_data"
    }
   ],
   "source": [
    "from sklearn.metrics import roc_curve, auc\n",
    "probs = best_Boosting_model.predict_proba(X_train_t_val)[:, 1]\n",
    "fpr, tpr, thresholds = roc_curve(Y_train_t_val, probs)\n",
    "roc_auc = auc(fpr, tpr)\n",
    "optimal_idx = np.argmax(tpr - fpr)\n",
    "optimal_threshold = thresholds[optimal_idx]\n",
    "plt.figure(figsize=(5,5))\n",
    "plt.plot(fpr, tpr, color='darkorange', lw=2, label='ROC curve (area = %0.2f)' % roc_auc)\n",
    "plt.plot([0, 1], [0, 1], color='navy', lw=2, linestyle='--')\n",
    "plt.xlim([0.0, 1.0])\n",
    "plt.ylim([0.0, 1.05])\n",
    "plt.xlabel('False Positive Rate')\n",
    "plt.ylabel('True Positive Rate (Recall)')\n",
    "plt.title('Receiver Operating Characteristic for Boosting')\n",
    "plt.legend(loc=\"lower right\");\n",
    "plt.plot(fpr[optimal_idx], tpr[optimal_idx], marker=\"x\",markeredgewidth=5, markersize=12);"
   ]
  },
  {
   "cell_type": "code",
   "execution_count": 63,
   "id": "7ffca5d3",
   "metadata": {},
   "outputs": [
    {
     "name": "stdout",
     "output_type": "stream",
     "text": [
      "              precision    recall  f1-score   support\n",
      "\n",
      "           0       0.73      0.70      0.72       927\n",
      "           1       0.74      0.77      0.76      1045\n",
      "\n",
      "    accuracy                           0.74      1972\n",
      "   macro avg       0.74      0.74      0.74      1972\n",
      "weighted avg       0.74      0.74      0.74      1972\n",
      "\n"
     ]
    }
   ],
   "source": [
    "Boosting_report = classification_report(Y_train_t_val, Y_pred_val)\n",
    "print(Boosting_report)"
   ]
  },
  {
   "cell_type": "code",
   "execution_count": 64,
   "id": "227b7348",
   "metadata": {
    "scrolled": true
   },
   "outputs": [
    {
     "name": "stdout",
     "output_type": "stream",
     "text": [
      "Accuracy: 0.74, Recall: 0.77, Precision: 0.74 \n",
      "\n",
      "Put differently, our predictions are correct 74% of the time, the model catches 77% of the defaulting customers, and the model is correct 74% of times it predicts 'Bad'.\n"
     ]
    }
   ],
   "source": [
    "print(\"Accuracy: %.2f, Recall: %.2f, Precision: %.2f\" % (accuracy, recall, precision), '\\n')\n",
    "print(\"Put differently, our predictions are correct %.0f%% of the time, the model catches %.0f%% of the defaulting customers, and the model is correct %.0f%% of times it predicts 'Bad'.\" % (accuracy * 100, recall * 100, precision * 100))"
   ]
  },
  {
   "cell_type": "markdown",
   "id": "d35255e1",
   "metadata": {},
   "source": [
    "---"
   ]
  },
  {
   "cell_type": "markdown",
   "id": "647c0559",
   "metadata": {},
   "source": [
    "### Linear models"
   ]
  },
  {
   "cell_type": "code",
   "execution_count": 65,
   "id": "7f575493",
   "metadata": {},
   "outputs": [],
   "source": [
    "from sklearn.linear_model import LogisticRegression\n",
    "from sklearn.discriminant_analysis import LinearDiscriminantAnalysis\n",
    "from sklearn.linear_model import SGDClassifier"
   ]
  },
  {
   "cell_type": "code",
   "execution_count": 66,
   "id": "6702ebcc",
   "metadata": {},
   "outputs": [],
   "source": [
    "log_reg = LogisticRegression(max_iter=10000, random_state=0).fit(X_train_t_tr,Y_train_t_tr)\n",
    "svc = SGDClassifier(max_iter=1000, random_state=0).fit(X_train_t_tr,Y_train_t_tr)\n",
    "lda = LinearDiscriminantAnalysis().fit(X_train_t_tr, Y_train_t_tr)"
   ]
  },
  {
   "cell_type": "code",
   "execution_count": 67,
   "id": "ef124fa0",
   "metadata": {},
   "outputs": [
    {
     "name": "stdout",
     "output_type": "stream",
     "text": [
      "Logistic regression accuracy: 0.747\n",
      "SVC model accuracy: 0.633\n",
      "LDA model accuracy: 0.748\n"
     ]
    }
   ],
   "source": [
    "print('Logistic regression accuracy: %.3f'%accuracy_score(Y_train_t_val,log_reg.predict(X_train_t_val)))\n",
    "print('SVC model accuracy: %.3f'%accuracy_score(Y_train_t_val,svc.predict(X_train_t_val)))\n",
    "print('LDA model accuracy: %.3f'%accuracy_score(Y_train_t_val,lda.predict(X_train_t_val)))"
   ]
  },
  {
   "cell_type": "code",
   "execution_count": 68,
   "id": "68dc27f6",
   "metadata": {},
   "outputs": [
    {
     "name": "stdout",
     "output_type": "stream",
     "text": [
      "Train accuracy\n",
      "Log. Reg. accuracy: 0.733\n",
      "Linear SVC accuracy: 0.606\n",
      "LDA accuracy: 0.734\n",
      "\n",
      "Validation accuracy\n",
      "Log. Reg. accuracy: 0.747\n",
      "Linear SVC accuracy: 0.633\n",
      "LDA accuracy: 0.748\n"
     ]
    }
   ],
   "source": [
    "print('Train accuracy')\n",
    "print('Log. Reg. accuracy: %.3f'%log_reg.score(X_train_t_tr, Y_train_t_tr))\n",
    "print('Linear SVC accuracy: %.3f'%svc.score(X_train_t_tr, Y_train_t_tr))\n",
    "print('LDA accuracy: %.3f'%lda.score(X_train_t_tr, Y_train_t_tr))\n",
    "print('\\nValidation accuracy')\n",
    "print('Log. Reg. accuracy: %.3f'%log_reg.score(X_train_t_val, Y_train_t_val))\n",
    "print('Linear SVC accuracy: %.3f'%svc.score(X_train_t_val, Y_train_t_val))\n",
    "print('LDA accuracy: %.3f'%lda.score(X_train_t_val, Y_train_t_val))"
   ]
  },
  {
   "cell_type": "markdown",
   "id": "78f07930",
   "metadata": {},
   "source": [
    "#### Utilize `Cross-validation`"
   ]
  },
  {
   "cell_type": "code",
   "execution_count": 69,
   "id": "f4b47d04",
   "metadata": {},
   "outputs": [],
   "source": [
    "cv_results_log_reg = cross_validate(LogisticRegression(max_iter=10000), X_train_t, Y_train, cv=5,return_estimator=True)"
   ]
  },
  {
   "cell_type": "code",
   "execution_count": 70,
   "id": "28e3c5ef",
   "metadata": {},
   "outputs": [
    {
     "name": "stdout",
     "output_type": "stream",
     "text": [
      "The test score for logistic model is [0.70722433 0.73510773 0.73447402 0.74254914 0.75142676]\n",
      "Logistic regresion - CV accuracy score 0.734\n",
      "Logistic regresion - validation accuracy score: 0.747\n"
     ]
    }
   ],
   "source": [
    "print('The test score for logistic model is {}'.format(cv_results_log_reg['test_score']))\n",
    "print('Logistic regresion - CV accuracy score %.3f'%cv_results_log_reg['test_score'].mean()) \n",
    "print('Logistic regresion - validation accuracy score: %.3f'%accuracy_score(Y_train_t_val, log_reg.predict(X_train_t_val)))"
   ]
  },
  {
   "cell_type": "code",
   "execution_count": 71,
   "id": "a77b320d",
   "metadata": {},
   "outputs": [],
   "source": [
    "cv_results_svc = cross_validate(SGDClassifier(max_iter=1000), X_train_t, Y_train, cv=5,return_estimator=True)"
   ]
  },
  {
   "cell_type": "code",
   "execution_count": 72,
   "id": "4b5b0b2b",
   "metadata": {},
   "outputs": [
    {
     "name": "stdout",
     "output_type": "stream",
     "text": [
      "The test score for svc model is [0.65335868 0.56400507 0.62801014 0.67850349 0.73493976]\n",
      "SVC regresion - CV accuracy score 0.652\n",
      "SVC regresion - validation accuracy score: 0.633\n"
     ]
    }
   ],
   "source": [
    "print('The test score for svc model is {}'.format(cv_results_svc['test_score']))\n",
    "print('SVC regresion - CV accuracy score %.3f'%cv_results_svc['test_score'].mean()) \n",
    "print('SVC regresion - validation accuracy score: %.3f'%accuracy_score(Y_train_t_val, svc.predict(X_train_t_val)))"
   ]
  },
  {
   "cell_type": "code",
   "execution_count": 73,
   "id": "3eb26ffa",
   "metadata": {},
   "outputs": [],
   "source": [
    "cv_results_lda = cross_validate(LinearDiscriminantAnalysis(), X_train_t, Y_train, cv=5,return_estimator=True)"
   ]
  },
  {
   "cell_type": "code",
   "execution_count": 74,
   "id": "c8589f99",
   "metadata": {},
   "outputs": [
    {
     "name": "stdout",
     "output_type": "stream",
     "text": [
      "The test score for lda model is [0.70468948 0.73954373 0.74017744 0.74318326 0.74698795]\n",
      "LDA regresion - CV accuracy score 0.735\n",
      "LDA regresion - validation accuracy score: 0.748\n"
     ]
    }
   ],
   "source": [
    "print('The test score for lda model is {}'.format(cv_results_lda['test_score']))\n",
    "print('LDA regresion - CV accuracy score %.3f'%cv_results_lda['test_score'].mean()) \n",
    "print('LDA regresion - validation accuracy score: %.3f'%accuracy_score(Y_train_t_val, lda.predict(X_train_t_val)))"
   ]
  },
  {
   "cell_type": "markdown",
   "id": "56619f05",
   "metadata": {},
   "source": [
    "#### Perform `hyper-parameter tuning`"
   ]
  },
  {
   "cell_type": "code",
   "execution_count": 75,
   "id": "dfada572",
   "metadata": {},
   "outputs": [
    {
     "name": "stdout",
     "output_type": "stream",
     "text": [
      "Best parameters for Logistic Regression: {'C': 1, 'solver': 'liblinear'}\n",
      "Best cross-validated accuracy: 0.7303905553905554\n"
     ]
    }
   ],
   "source": [
    "# Logistic regresion\n",
    "log_reg = LogisticRegression(max_iter=10000, random_state=0)\n",
    "param_grid = {\n",
    "    'C': [0.001, 0.01, 0.1, 1, 10, 100],\n",
    "    'solver': ['newton-cg', 'lbfgs', 'liblinear', 'sag', 'saga']\n",
    "}\n",
    "\n",
    "grid_log_reg = GridSearchCV(log_reg, param_grid, cv=5, scoring='accuracy')\n",
    "grid_log_reg.fit(X_train_t_tr, Y_train_t_tr)\n",
    "\n",
    "print(\"Best parameters for Logistic Regression:\", grid_log_reg.best_params_)\n",
    "print(\"Best cross-validated accuracy:\", grid_log_reg.best_score_)"
   ]
  },
  {
   "cell_type": "code",
   "execution_count": 76,
   "id": "343f51c9",
   "metadata": {},
   "outputs": [
    {
     "name": "stdout",
     "output_type": "stream",
     "text": [
      "Best parameters for SGD Classifier: {'alpha': 0.1, 'eta0': 0.01, 'learning_rate': 'adaptive'}\n",
      "Best cross-validated accuracy: 0.723800718512257\n"
     ]
    }
   ],
   "source": [
    "# SVC\n",
    "sgd = SGDClassifier(max_iter=1000, random_state=0)\n",
    "param_grid = {\n",
    "    'alpha': [0.0001, 0.001, 0.01, 0.1],\n",
    "    'learning_rate': ['constant', 'optimal', 'invscaling', 'adaptive'],\n",
    "    'eta0': [0.01, 0.1, 1]\n",
    "}\n",
    "\n",
    "grid_sgd = GridSearchCV(sgd, param_grid, cv=5, scoring='accuracy')\n",
    "grid_sgd.fit(X_train_t_tr, Y_train_t_tr)\n",
    "\n",
    "print(\"Best parameters for SGD Classifier:\", grid_sgd.best_params_)\n",
    "print(\"Best cross-validated accuracy:\", grid_sgd.best_score_)"
   ]
  },
  {
   "cell_type": "code",
   "execution_count": 77,
   "id": "a253f0f6",
   "metadata": {},
   "outputs": [
    {
     "name": "stdout",
     "output_type": "stream",
     "text": [
      "Best parameters for LDA: {'shrinkage': 'auto', 'solver': 'lsqr'}\n",
      "Best cross-validated accuracy: 0.7303911265449727\n"
     ]
    }
   ],
   "source": [
    "# LDA\n",
    "lda = LinearDiscriminantAnalysis()\n",
    "\n",
    "param_grid = {\n",
    "    'solver': ['lsqr', 'eigen'],\n",
    "    'shrinkage': ['auto', None] + list(np.linspace(0, 1, 10))\n",
    "}\n",
    "\n",
    "grid_lda = GridSearchCV(lda, param_grid, cv=5, scoring='accuracy')\n",
    "grid_lda.fit(X_train_t_tr, Y_train_t_tr)\n",
    "\n",
    "print(\"Best parameters for LDA:\", grid_lda.best_params_)\n",
    "print(\"Best cross-validated accuracy:\", grid_lda.best_score_)"
   ]
  },
  {
   "cell_type": "code",
   "execution_count": 78,
   "id": "275b1b28",
   "metadata": {},
   "outputs": [],
   "source": [
    "best_Log_Reg_model = grid_log_reg.best_estimator_\n",
    "best_SVC_model = grid_sgd.best_estimator_\n",
    "best_LDA_model = grid_lda.best_estimator_"
   ]
  },
  {
   "cell_type": "markdown",
   "id": "a53fd801",
   "metadata": {},
   "source": [
    "#### Create `Confusion Matrix`"
   ]
  },
  {
   "cell_type": "code",
   "execution_count": 79,
   "id": "9b27dd2b",
   "metadata": {},
   "outputs": [
    {
     "name": "stdout",
     "output_type": "stream",
     "text": [
      "Confusion Matrix for Logistic Regression:\n",
      " [[667 260]\n",
      " [237 808]] \n",
      "\n",
      "Confusion Matrix for SGD Classifier:\n",
      " [[721 206]\n",
      " [335 710]] \n",
      "\n",
      "Confusion Matrix for LDA:\n",
      " [[664 263]\n",
      " [234 811]]\n"
     ]
    }
   ],
   "source": [
    "Y_pred_log_reg = best_Log_Reg_model.predict(X_train_t_val)\n",
    "Y_pred_sgd = best_SVC_model.predict(X_train_t_val)\n",
    "Y_pred_lda = best_LDA_model.predict(X_train_t_val)\n",
    "\n",
    "log_reg_conf_matrix = confusion_matrix(Y_train_t_val, Y_pred_log_reg)\n",
    "svc_conf_matrix = confusion_matrix(Y_train_t_val, Y_pred_sgd)\n",
    "lda_conf_matrix = confusion_matrix(Y_train_t_val, Y_pred_lda)\n",
    "\n",
    "print(\"Confusion Matrix for Logistic Regression:\\n\", log_reg_conf_matrix, '\\n')\n",
    "print(\"Confusion Matrix for SGD Classifier:\\n\", svc_conf_matrix, '\\n')\n",
    "print(\"Confusion Matrix for LDA:\\n\", lda_conf_matrix)"
   ]
  },
  {
   "cell_type": "markdown",
   "id": "025762cf",
   "metadata": {},
   "source": [
    "####  Draw the ROC curve for our model `best_Log_Reg_model`, `best_SVC_model`, and `best_LDA_model`"
   ]
  },
  {
   "cell_type": "code",
   "execution_count": 80,
   "id": "2369c6db",
   "metadata": {},
   "outputs": [
    {
     "data": {
      "image/png": "[encoded data removed]",
      "text/plain": [
       "<Figure size 360x360 with 1 Axes>"
      ]
     },
     "metadata": {
      "needs_background": "light"
     },
     "output_type": "display_data"
    }
   ],
   "source": [
    "from sklearn.metrics import roc_curve, auc\n",
    "fpr_log_reg, tpr_log_reg, _ = roc_curve(Y_train_t_val, best_Log_Reg_model.predict_proba(X_train_t_val)[:, 1])\n",
    "roc_auc_log_reg = auc(fpr_log_reg, tpr_log_reg)\n",
    "\n",
    "fpr_sgd, tpr_sgd, _ = roc_curve(Y_train_t_val, best_SVC_model.decision_function(X_train_t_val))\n",
    "roc_auc_sgd = auc(fpr_sgd, tpr_sgd)\n",
    "\n",
    "fpr_lda, tpr_lda, _ = roc_curve(Y_train_t_val, best_LDA_model.predict_proba(X_train_t_val)[:, 1])\n",
    "roc_auc_lda = auc(fpr_lda, tpr_lda)\n",
    "\n",
    "plt.figure(figsize=(5, 5))\n",
    "plt.plot(fpr_log_reg, tpr_log_reg, label=f'Logistic Regression (area = {roc_auc_log_reg:.2f})')\n",
    "plt.plot(fpr_sgd, tpr_sgd, label=f'SGD Classifier (area = {roc_auc_sgd:.2f})')\n",
    "plt.plot(fpr_lda, tpr_lda, label=f'LDA (area = {roc_auc_lda:.2f})')\n",
    "plt.plot([0, 1], [0, 1], 'k--')\n",
    "plt.xlim([0.0, 1.0])\n",
    "plt.ylim([0.0, 1.05])\n",
    "plt.xlabel('False Positive Rate')\n",
    "plt.ylabel('True Positive Rate')\n",
    "plt.title('Receiver Operating Characteristic')\n",
    "plt.legend(loc=\"lower right\")\n",
    "plt.show()"
   ]
  },
  {
   "cell_type": "code",
   "execution_count": 81,
   "id": "90bf0a57",
   "metadata": {},
   "outputs": [
    {
     "name": "stdout",
     "output_type": "stream",
     "text": [
      "Cross-validation scores for Logistic Regression: [0.70912548 0.7338403  0.73637516 0.74698795 0.75015853]\n",
      "Mean cross-validation score: 0.735\n",
      "Cross-validation scores for SGD Classifier: [0.6913815  0.72560203 0.73510773 0.73937857 0.74952441]\n",
      "Mean cross-validation score: 0.728\n",
      "Cross-validation scores for LDA: [0.70468948 0.73891001 0.74081115 0.74381737 0.75015853]\n",
      "Mean cross-validation score: 0.736\n"
     ]
    }
   ],
   "source": [
    "from sklearn.model_selection import cross_val_score\n",
    "# Logistic Regression cross-validation\n",
    "cv_scores_log_reg = cross_val_score(best_Log_Reg_model, X_train_t, Y_train, cv=5, scoring='accuracy')\n",
    "print(\"Cross-validation scores for Logistic Regression:\", cv_scores_log_reg)\n",
    "print(\"Mean cross-validation score: {:.3f}\".format(cv_scores_log_reg.mean()))\n",
    "\n",
    "# SGD Classifier cross-validation\n",
    "cv_scores_sgd = cross_val_score(best_SVC_model, X_train_t, Y_train, cv=5, scoring='accuracy')\n",
    "print(\"Cross-validation scores for SGD Classifier:\", cv_scores_sgd)\n",
    "print(\"Mean cross-validation score: {:.3f}\".format(cv_scores_sgd.mean()))\n",
    "\n",
    "# LDA cross-validation\n",
    "cv_scores_lda = cross_val_score(best_LDA_model, X_train_t, Y_train, cv=5, scoring='accuracy')\n",
    "print(\"Cross-validation scores for LDA:\", cv_scores_lda)\n",
    "print(\"Mean cross-validation score: {:.3f}\".format(cv_scores_lda.mean()))"
   ]
  },
  {
   "cell_type": "code",
   "execution_count": 82,
   "id": "0f017499",
   "metadata": {},
   "outputs": [
    {
     "name": "stdout",
     "output_type": "stream",
     "text": [
      "Classification Report for Logistic Regression:\n",
      "              precision    recall  f1-score   support\n",
      "\n",
      "           0       0.74      0.72      0.73       927\n",
      "           1       0.76      0.77      0.76      1045\n",
      "\n",
      "    accuracy                           0.75      1972\n",
      "   macro avg       0.75      0.75      0.75      1972\n",
      "weighted avg       0.75      0.75      0.75      1972\n",
      "\n",
      "\n",
      "Classification Report for SVC:\n",
      "              precision    recall  f1-score   support\n",
      "\n",
      "           0       0.68      0.78      0.73       927\n",
      "           1       0.78      0.68      0.72      1045\n",
      "\n",
      "    accuracy                           0.73      1972\n",
      "   macro avg       0.73      0.73      0.73      1972\n",
      "weighted avg       0.73      0.73      0.73      1972\n",
      "\n",
      "\n",
      "Classification Report for LDA:\n",
      "              precision    recall  f1-score   support\n",
      "\n",
      "           0       0.74      0.72      0.73       927\n",
      "           1       0.76      0.78      0.77      1045\n",
      "\n",
      "    accuracy                           0.75      1972\n",
      "   macro avg       0.75      0.75      0.75      1972\n",
      "weighted avg       0.75      0.75      0.75      1972\n",
      "\n"
     ]
    }
   ],
   "source": [
    "Y_pred_log_reg = best_Log_Reg_model.predict(X_train_t_val)\n",
    "Y_pred_svc = best_SVC_model.predict(X_train_t_val)\n",
    "Y_pred_lda = best_LDA_model.predict(X_train_t_val)\n",
    "\n",
    "report_log_reg = classification_report(Y_train_t_val, Y_pred_log_reg)\n",
    "report_svc = classification_report(Y_train_t_val, Y_pred_svc)\n",
    "report_lda = classification_report(Y_train_t_val, Y_pred_lda)\n",
    "\n",
    "print(\"Classification Report for Logistic Regression:\")\n",
    "print(report_log_reg)\n",
    "print(\"\\nClassification Report for SVC:\")\n",
    "print(report_svc)\n",
    "print(\"\\nClassification Report for LDA:\")\n",
    "print(report_lda)"
   ]
  },
  {
   "cell_type": "code",
   "execution_count": 83,
   "id": "60439ebb",
   "metadata": {},
   "outputs": [],
   "source": [
    "# Calculate metrics for Logistic Regression\n",
    "accuracy_log_reg = accuracy_score(Y_train_t_val, Y_pred_log_reg)\n",
    "recall_log_reg = recall_score(Y_train_t_val, Y_pred_log_reg)\n",
    "precision_log_reg = precision_score(Y_train_t_val, Y_pred_log_reg)\n",
    "\n",
    "# Calculate metrics for SVC\n",
    "accuracy_svc = accuracy_score(Y_train_t_val, Y_pred_svc)\n",
    "recall_svc = recall_score(Y_train_t_val, Y_pred_svc)\n",
    "precision_svc = precision_score(Y_train_t_val, Y_pred_svc)\n",
    "\n",
    "# Calculate metrics for LDA\n",
    "accuracy_lda = accuracy_score(Y_train_t_val, Y_pred_lda)\n",
    "recall_lda = recall_score(Y_train_t_val, Y_pred_lda)\n",
    "precision_lda = precision_score(Y_train_t_val, Y_pred_lda)\n",
    "\n",
    "def print_metrics(model_name, accuracy, recall, precision):\n",
    "    print(f\"{model_name} - Accuracy: {accuracy:.2f}, Recall: {recall:.2f}, Precision: {precision:.2f}\\n\")\n",
    "    print(f\"Put differently, our predictions are correct {accuracy * 100:.0f}% of the time, the model catches {recall * 100:.0f}% of the defaulting customers, and the model is correct {precision * 100:.0f}% of times it predicts 'Bad'.\\n\")"
   ]
  },
  {
   "cell_type": "code",
   "execution_count": 84,
   "id": "3a00f6d2",
   "metadata": {},
   "outputs": [
    {
     "name": "stdout",
     "output_type": "stream",
     "text": [
      "Logistic Regression - Accuracy: 0.75, Recall: 0.77, Precision: 0.76\n",
      "\n",
      "Put differently, our predictions are correct 75% of the time, the model catches 77% of the defaulting customers, and the model is correct 76% of times it predicts 'Bad'.\n",
      "\n"
     ]
    }
   ],
   "source": [
    "print_metrics(\"Logistic Regression\", accuracy_log_reg, recall_log_reg, precision_log_reg)"
   ]
  },
  {
   "cell_type": "code",
   "execution_count": 85,
   "id": "f09dbe64",
   "metadata": {},
   "outputs": [
    {
     "name": "stdout",
     "output_type": "stream",
     "text": [
      "SVC - Accuracy: 0.73, Recall: 0.68, Precision: 0.78\n",
      "\n",
      "Put differently, our predictions are correct 73% of the time, the model catches 68% of the defaulting customers, and the model is correct 78% of times it predicts 'Bad'.\n",
      "\n"
     ]
    }
   ],
   "source": [
    "print_metrics(\"SVC\", accuracy_svc, recall_svc, precision_svc)"
   ]
  },
  {
   "cell_type": "code",
   "execution_count": 86,
   "id": "2b6e06b8",
   "metadata": {},
   "outputs": [
    {
     "name": "stdout",
     "output_type": "stream",
     "text": [
      "LDA - Accuracy: 0.75, Recall: 0.78, Precision: 0.76\n",
      "\n",
      "Put differently, our predictions are correct 75% of the time, the model catches 78% of the defaulting customers, and the model is correct 76% of times it predicts 'Bad'.\n",
      "\n"
     ]
    }
   ],
   "source": [
    "print_metrics(\"LDA\", accuracy_lda, recall_lda, precision_lda)"
   ]
  },
  {
   "cell_type": "markdown",
   "id": "ecae920e",
   "metadata": {},
   "source": [
    "---"
   ]
  },
  {
   "cell_type": "markdown",
   "id": "1755cd65",
   "metadata": {},
   "source": [
    "### Knn model"
   ]
  },
  {
   "cell_type": "code",
   "execution_count": 87,
   "id": "eb9f09e8",
   "metadata": {},
   "outputs": [],
   "source": [
    "from sklearn import neighbors\n",
    "from sklearn.neighbors import KNeighborsClassifier\n",
    "clf_knn = neighbors.KNeighborsClassifier().fit(X_train_t_tr, Y_train_t_tr)"
   ]
  },
  {
   "cell_type": "code",
   "execution_count": 88,
   "id": "07a03cd9",
   "metadata": {},
   "outputs": [
    {
     "name": "stdout",
     "output_type": "stream",
     "text": [
      "KNN accuracy: 0.676\n"
     ]
    }
   ],
   "source": [
    "print('KNN accuracy: %.3f'%accuracy_score(Y_train_t_val, clf_knn.predict(X_train_t_val)))"
   ]
  },
  {
   "cell_type": "markdown",
   "id": "fe01a425",
   "metadata": {},
   "source": [
    "#### Utilize `Cross-validation`"
   ]
  },
  {
   "cell_type": "code",
   "execution_count": 89,
   "id": "3b1f8e21",
   "metadata": {},
   "outputs": [],
   "source": [
    "cv_results_knn = cross_validate(neighbors.KNeighborsClassifier(), X_train_t,Y_train, cv=5, return_estimator=True)"
   ]
  },
  {
   "cell_type": "code",
   "execution_count": 90,
   "id": "19e2e8eb",
   "metadata": {},
   "outputs": [
    {
     "name": "stdout",
     "output_type": "stream",
     "text": [
      "The test score for knn model is [0.64892269 0.66286439 0.68441065 0.68230818 0.6708941 ]\n",
      "KNN - CV accuracy score 0.670\n",
      "KNN - validation accuracy score: 0.676\n"
     ]
    }
   ],
   "source": [
    "print('The test score for knn model is {}'.format(cv_results_knn['test_score']))\n",
    "print('KNN - CV accuracy score %.3f'%cv_results_knn['test_score'].mean())\n",
    "print('KNN - validation accuracy score: %.3f'%accuracy_score(Y_train_t_val,clf_knn.predict(X_train_t_val)))"
   ]
  },
  {
   "cell_type": "markdown",
   "id": "b8ef3915",
   "metadata": {},
   "source": [
    "#### Perform `hyper-parameter tuning`"
   ]
  },
  {
   "cell_type": "code",
   "execution_count": 91,
   "id": "cf714d0d",
   "metadata": {},
   "outputs": [
    {
     "name": "stdout",
     "output_type": "stream",
     "text": [
      "Best parameters for KNN: {'metric': 'manhattan', 'n_neighbors': 35, 'weights': 'distance'}\n",
      "Best cross-validated accuracy: 0.7138269345000114\n"
     ]
    }
   ],
   "source": [
    "knn = KNeighborsClassifier()\n",
    "param_grid = {\n",
    "    'n_neighbors': range(5, 51, 5),\n",
    "    'weights': ['uniform', 'distance'],\n",
    "    'metric': ['euclidean', 'manhattan']\n",
    "}\n",
    "\n",
    "grid_knn = GridSearchCV(knn, param_grid, cv=5, scoring='accuracy')\n",
    "grid_knn.fit(X_train_t_tr, Y_train_t_tr)\n",
    "\n",
    "print(\"Best parameters for KNN:\", grid_knn.best_params_)\n",
    "print(\"Best cross-validated accuracy:\", grid_knn.best_score_)"
   ]
  },
  {
   "cell_type": "code",
   "execution_count": 92,
   "id": "6cd3e3c2",
   "metadata": {},
   "outputs": [],
   "source": [
    "best_KNN_model = grid_knn.best_estimator_"
   ]
  },
  {
   "cell_type": "code",
   "execution_count": 93,
   "id": "e31c50d9",
   "metadata": {},
   "outputs": [
    {
     "name": "stdout",
     "output_type": "stream",
     "text": [
      "Training score: 1.000\n",
      "Validation score: 0.721\n"
     ]
    }
   ],
   "source": [
    "train_score = best_KNN_model.score(X_train_t_tr, Y_train_t_tr)\n",
    "val_score = best_KNN_model.score(X_train_t_val, Y_train_t_val)\n",
    "print(f\"Training score: {train_score:.3f}\")\n",
    "print(f\"Validation score: {val_score:.3f}\")"
   ]
  },
  {
   "cell_type": "code",
   "execution_count": 94,
   "id": "eacf30ca",
   "metadata": {},
   "outputs": [],
   "source": [
    "from sklearn.model_selection import validation_curve\n",
    "param_range = range(5, 51, 5)\n",
    "train_scores, test_scores = validation_curve(\n",
    "    KNeighborsClassifier(),\n",
    "    X_train_t_tr, Y_train_t_tr,\n",
    "    param_name=\"n_neighbors\",\n",
    "    param_range=param_range,\n",
    "    cv=5,\n",
    "    scoring=\"accuracy\"\n",
    ")\n",
    "train_mean = np.mean(train_scores, axis=1)\n",
    "train_std = np.std(train_scores, axis=1)\n",
    "test_mean = np.mean(test_scores, axis=1)\n",
    "test_std = np.std(test_scores, axis=1)"
   ]
  },
  {
   "cell_type": "code",
   "execution_count": 95,
   "id": "2f29ef9b",
   "metadata": {},
   "outputs": [
    {
     "data": {
      "image/png": "[encoded data removed]",
      "text/plain": [
       "<Figure size 432x288 with 1 Axes>"
      ]
     },
     "metadata": {
      "needs_background": "light"
     },
     "output_type": "display_data"
    }
   ],
   "source": [
    "# Plot mean accuracy scores for training and test sets\n",
    "plt.plot(param_range, train_mean, label=\"Training score\", color=\"red\")\n",
    "plt.plot(param_range, test_mean, label=\"Cross-validation score\", color=\"blue\")\n",
    "# Plot accuracies bands for training and test sets\n",
    "plt.fill_between(param_range, train_mean - train_std, train_mean + train_std, color=\"gray\")\n",
    "plt.fill_between(param_range, test_mean - test_std, test_mean + test_std, color=\"gainsboro\")\n",
    "plt.title(\"Validation Curve With KNN\")\n",
    "plt.xlabel(\"Number of Neighbors\")\n",
    "plt.ylabel(\"Accuracy Score\")\n",
    "plt.tight_layout()\n",
    "plt.legend(loc=\"best\")\n",
    "plt.show()"
   ]
  },
  {
   "cell_type": "markdown",
   "id": "b60eb621",
   "metadata": {},
   "source": [
    "#### Create `Confusion Matrix`"
   ]
  },
  {
   "cell_type": "code",
   "execution_count": 96,
   "id": "d000161e",
   "metadata": {},
   "outputs": [
    {
     "data": {
      "text/plain": [
       "array([[692, 235],\n",
       "       [316, 729]])"
      ]
     },
     "execution_count": 96,
     "metadata": {},
     "output_type": "execute_result"
    }
   ],
   "source": [
    "Y_pred_val = best_KNN_model.predict(X_train_t_val)\n",
    "KNN_conf_matrix = confusion_matrix(Y_train_t_val, Y_pred_val)\n",
    "KNN_conf_matrix"
   ]
  },
  {
   "cell_type": "markdown",
   "id": "adba90de",
   "metadata": {},
   "source": [
    "####  Draw the ROC curve for our model `best_KNN_model`"
   ]
  },
  {
   "cell_type": "code",
   "execution_count": 97,
   "id": "72cc8a72",
   "metadata": {},
   "outputs": [
    {
     "data": {
      "image/png": "[encoded data removed]",
      "text/plain": [
       "<Figure size 360x360 with 1 Axes>"
      ]
     },
     "metadata": {
      "needs_background": "light"
     },
     "output_type": "display_data"
    }
   ],
   "source": [
    "from sklearn.metrics import roc_curve, auc\n",
    "y_scores_knn = best_KNN_model.predict_proba(X_train_t_val)[:, 1]\n",
    "fpr_knn, tpr_knn, _ = roc_curve(Y_train_t_val, y_scores_knn)\n",
    "roc_auc_knn = auc(fpr_knn, tpr_knn)\n",
    "optimal_idx = np.argmax(tpr_knn - fpr_knn)\n",
    "optimal_threshold = thresholds[optimal_idx]\n",
    "plt.figure(figsize=(5,5))\n",
    "plt.plot(fpr_knn, tpr_knn, color='darkorange', lw=2, label='ROC curve (area = %0.2f)' % roc_auc)\n",
    "plt.plot([0, 1], [0, 1], color='navy', lw=2, linestyle='--')\n",
    "plt.xlim([0.0, 1.0])\n",
    "plt.ylim([0.0, 1.05])\n",
    "plt.xlabel('False Positive Rate')\n",
    "plt.ylabel('True Positive Rate (Recall)')\n",
    "plt.title('Receiver Operating Characteristic for KNN')\n",
    "plt.legend(loc=\"lower right\");\n",
    "plt.plot(fpr[optimal_idx], tpr[optimal_idx], marker=\"x\",markeredgewidth=5, markersize=12);"
   ]
  },
  {
   "cell_type": "code",
   "execution_count": 98,
   "id": "05598c9f",
   "metadata": {},
   "outputs": [
    {
     "name": "stdout",
     "output_type": "stream",
     "text": [
      "              precision    recall  f1-score   support\n",
      "\n",
      "           0       0.69      0.75      0.72       927\n",
      "           1       0.76      0.70      0.73      1045\n",
      "\n",
      "    accuracy                           0.72      1972\n",
      "   macro avg       0.72      0.72      0.72      1972\n",
      "weighted avg       0.72      0.72      0.72      1972\n",
      "\n"
     ]
    }
   ],
   "source": [
    "KNN_report = classification_report(Y_train_t_val, Y_pred_val)\n",
    "print(KNN_report)"
   ]
  },
  {
   "cell_type": "code",
   "execution_count": 99,
   "id": "d965da2a",
   "metadata": {},
   "outputs": [
    {
     "name": "stdout",
     "output_type": "stream",
     "text": [
      "Accuracy: 0.74, Recall: 0.77, Precision: 0.74 \n",
      "\n",
      "Put differently, our predictions are correct 74% of the time, the model catches 77% of the defaulting customers, and the model is correct 74% of times it predicts 'Bad'.\n"
     ]
    }
   ],
   "source": [
    "print(\"Accuracy: %.2f, Recall: %.2f, Precision: %.2f\" % (accuracy, recall, precision), '\\n')\n",
    "print(\"Put differently, our predictions are correct %.0f%% of the time, the model catches %.0f%% of the defaulting customers, and the model is correct %.0f%% of times it predicts 'Bad'.\" % (accuracy * 100, recall * 100, precision * 100))"
   ]
  },
  {
   "cell_type": "markdown",
   "id": "741fd78d",
   "metadata": {},
   "source": [
    "---"
   ]
  },
  {
   "cell_type": "markdown",
   "id": "b2dcf41d",
   "metadata": {},
   "source": [
    "## Model Selection"
   ]
  },
  {
   "cell_type": "code",
   "execution_count": 100,
   "id": "fa94f4c6",
   "metadata": {},
   "outputs": [],
   "source": [
    "def calculate_metrics(model, X_train, y_train, X_val, y_val):\n",
    "    y_pred_train = model.predict(X_train)\n",
    "    y_pred_val = model.predict(X_val)\n",
    "    \n",
    "    accuracy = accuracy_score(y_val, y_pred_val)\n",
    "    recall = recall_score(y_val, y_pred_val)\n",
    "    precision = precision_score(y_val, y_pred_val)\n",
    "    f1 = f1_score(y_val, y_pred_val)\n",
    "    \n",
    "    return accuracy, recall, precision, f1"
   ]
  },
  {
   "cell_type": "code",
   "execution_count": 101,
   "id": "ab8fc679",
   "metadata": {},
   "outputs": [],
   "source": [
    "models = {\n",
    "    'Decision Tree': best_DT_model,\n",
    "    'Random Forest': best_RF_model,\n",
    "    'AdaBoost': best_Boosting_model,\n",
    "    'Logistic Regression': best_Log_Reg_model,\n",
    "    'SVC': best_SVC_model,\n",
    "    'LDA': best_LDA_model,\n",
    "    'KNN': best_KNN_model\n",
    "}\n",
    "\n",
    "model_metrics = {}\n",
    "\n",
    "for name, model in models.items():\n",
    "    accuracy, recall, precision, f1 = calculate_metrics(model, X_train_t_tr, Y_train_t_tr, X_train_t_val, Y_train_t_val)\n",
    "    model_metrics[name] = [accuracy, recall, precision, f1]"
   ]
  },
  {
   "cell_type": "code",
   "execution_count": 102,
   "id": "2930c298",
   "metadata": {},
   "outputs": [
    {
     "data": {
      "text/html": [
       "<style type=\"text/css\">\n",
       "</style>\n",
       "<table id=\"T_9edd4\">\n",
       "  <thead>\n",
       "    <tr>\n",
       "      <th class=\"blank level0\" >&nbsp;</th>\n",
       "      <th id=\"T_9edd4_level0_col0\" class=\"col_heading level0 col0\" >Accuracy</th>\n",
       "      <th id=\"T_9edd4_level0_col1\" class=\"col_heading level0 col1\" >Recall</th>\n",
       "      <th id=\"T_9edd4_level0_col2\" class=\"col_heading level0 col2\" >Precision</th>\n",
       "      <th id=\"T_9edd4_level0_col3\" class=\"col_heading level0 col3\" >F1 Score</th>\n",
       "    </tr>\n",
       "    <tr>\n",
       "      <th class=\"index_name level0\" >Models</th>\n",
       "      <th class=\"blank col0\" >&nbsp;</th>\n",
       "      <th class=\"blank col1\" >&nbsp;</th>\n",
       "      <th class=\"blank col2\" >&nbsp;</th>\n",
       "      <th class=\"blank col3\" >&nbsp;</th>\n",
       "    </tr>\n",
       "  </thead>\n",
       "  <tbody>\n",
       "    <tr>\n",
       "      <th id=\"T_9edd4_level0_row0\" class=\"row_heading level0 row0\" >Decision Tree</th>\n",
       "      <td id=\"T_9edd4_row0_col0\" class=\"data row0 col0\" >0.72</td>\n",
       "      <td id=\"T_9edd4_row0_col1\" class=\"data row0 col1\" >0.74</td>\n",
       "      <td id=\"T_9edd4_row0_col2\" class=\"data row0 col2\" >0.73</td>\n",
       "      <td id=\"T_9edd4_row0_col3\" class=\"data row0 col3\" >0.73</td>\n",
       "    </tr>\n",
       "    <tr>\n",
       "      <th id=\"T_9edd4_level0_row1\" class=\"row_heading level0 row1\" >Random Forest</th>\n",
       "      <td id=\"T_9edd4_row1_col0\" class=\"data row1 col0\" >0.72</td>\n",
       "      <td id=\"T_9edd4_row1_col1\" class=\"data row1 col1\" >0.78</td>\n",
       "      <td id=\"T_9edd4_row1_col2\" class=\"data row1 col2\" >0.72</td>\n",
       "      <td id=\"T_9edd4_row1_col3\" class=\"data row1 col3\" >0.75</td>\n",
       "    </tr>\n",
       "    <tr>\n",
       "      <th id=\"T_9edd4_level0_row2\" class=\"row_heading level0 row2\" >AdaBoost</th>\n",
       "      <td id=\"T_9edd4_row2_col0\" class=\"data row2 col0\" >0.74</td>\n",
       "      <td id=\"T_9edd4_row2_col1\" class=\"data row2 col1\" >0.77</td>\n",
       "      <td id=\"T_9edd4_row2_col2\" class=\"data row2 col2\" >0.74</td>\n",
       "      <td id=\"T_9edd4_row2_col3\" class=\"data row2 col3\" >0.76</td>\n",
       "    </tr>\n",
       "    <tr>\n",
       "      <th id=\"T_9edd4_level0_row3\" class=\"row_heading level0 row3\" >Logistic Regression</th>\n",
       "      <td id=\"T_9edd4_row3_col0\" class=\"data row3 col0\" >0.75</td>\n",
       "      <td id=\"T_9edd4_row3_col1\" class=\"data row3 col1\" >0.77</td>\n",
       "      <td id=\"T_9edd4_row3_col2\" class=\"data row3 col2\" >0.76</td>\n",
       "      <td id=\"T_9edd4_row3_col3\" class=\"data row3 col3\" >0.76</td>\n",
       "    </tr>\n",
       "    <tr>\n",
       "      <th id=\"T_9edd4_level0_row4\" class=\"row_heading level0 row4\" >SVC</th>\n",
       "      <td id=\"T_9edd4_row4_col0\" class=\"data row4 col0\" >0.73</td>\n",
       "      <td id=\"T_9edd4_row4_col1\" class=\"data row4 col1\" >0.68</td>\n",
       "      <td id=\"T_9edd4_row4_col2\" class=\"data row4 col2\" >0.78</td>\n",
       "      <td id=\"T_9edd4_row4_col3\" class=\"data row4 col3\" >0.72</td>\n",
       "    </tr>\n",
       "    <tr>\n",
       "      <th id=\"T_9edd4_level0_row5\" class=\"row_heading level0 row5\" >LDA</th>\n",
       "      <td id=\"T_9edd4_row5_col0\" class=\"data row5 col0\" >0.75</td>\n",
       "      <td id=\"T_9edd4_row5_col1\" class=\"data row5 col1\" >0.78</td>\n",
       "      <td id=\"T_9edd4_row5_col2\" class=\"data row5 col2\" >0.76</td>\n",
       "      <td id=\"T_9edd4_row5_col3\" class=\"data row5 col3\" >0.77</td>\n",
       "    </tr>\n",
       "    <tr>\n",
       "      <th id=\"T_9edd4_level0_row6\" class=\"row_heading level0 row6\" >KNN</th>\n",
       "      <td id=\"T_9edd4_row6_col0\" class=\"data row6 col0\" >0.72</td>\n",
       "      <td id=\"T_9edd4_row6_col1\" class=\"data row6 col1\" >0.70</td>\n",
       "      <td id=\"T_9edd4_row6_col2\" class=\"data row6 col2\" >0.76</td>\n",
       "      <td id=\"T_9edd4_row6_col3\" class=\"data row6 col3\" >0.73</td>\n",
       "    </tr>\n",
       "  </tbody>\n",
       "</table>\n"
      ],
      "text/plain": [
       "<pandas.io.formats.style.Styler at 0x7fa961d42c50>"
      ]
     },
     "execution_count": 102,
     "metadata": {},
     "output_type": "execute_result"
    }
   ],
   "source": [
    "metrics_df = pd.DataFrame.from_dict(model_metrics, orient='index', columns=['Accuracy', 'Recall', 'Precision', 'F1 Score'])\n",
    "metrics_df.index.name = 'Models'\n",
    "styled_metrics_df = metrics_df.style.format(\"{:.2f}\")\n",
    "styled_metrics_df"
   ]
  },
  {
   "cell_type": "markdown",
   "id": "33872334",
   "metadata": {},
   "source": [
    "Based on the above table, we would choose the model **Random Forest**, **AdaBoost**, and **LDA** for our client to make prediction. That is, we will use `best_RF_model`, `best_Boosting_model`, and `best_LDA_model`."
   ]
  },
  {
   "cell_type": "markdown",
   "id": "01c76809",
   "metadata": {},
   "source": [
    "---"
   ]
  },
  {
   "cell_type": "markdown",
   "id": "611f99f4",
   "metadata": {},
   "source": [
    "## Save Work Progress"
   ]
  },
  {
   "cell_type": "markdown",
   "id": "ecb2e3b7",
   "metadata": {},
   "source": [
    "### Store model performance"
   ]
  },
  {
   "cell_type": "code",
   "execution_count": 103,
   "id": "e5825c5d",
   "metadata": {},
   "outputs": [],
   "source": [
    "metrics_df.to_csv('model_performance_metrics.csv')"
   ]
  },
  {
   "cell_type": "markdown",
   "id": "0a38a1f6",
   "metadata": {},
   "source": [
    "### Store models"
   ]
  },
  {
   "cell_type": "markdown",
   "id": "af828850",
   "metadata": {},
   "source": [
    "#### `best_RF_model`"
   ]
  },
  {
   "cell_type": "code",
   "execution_count": 104,
   "id": "0f2a9266",
   "metadata": {},
   "outputs": [
    {
     "data": {
      "text/plain": [
       "['best_RF_model.joblib']"
      ]
     },
     "execution_count": 104,
     "metadata": {},
     "output_type": "execute_result"
    }
   ],
   "source": [
    "from joblib import dump\n",
    "dump(best_RF_model, 'best_RF_model.joblib')"
   ]
  },
  {
   "cell_type": "markdown",
   "id": "0c1ab4ba",
   "metadata": {},
   "source": [
    "#### `best_Boosting_model`"
   ]
  },
  {
   "cell_type": "code",
   "execution_count": 105,
   "id": "f876a3bb",
   "metadata": {},
   "outputs": [
    {
     "data": {
      "text/plain": [
       "['best_Boosting_model.joblib']"
      ]
     },
     "execution_count": 105,
     "metadata": {},
     "output_type": "execute_result"
    }
   ],
   "source": [
    "dump(best_Boosting_model, 'best_Boosting_model.joblib')"
   ]
  },
  {
   "cell_type": "markdown",
   "id": "c2e7ed1e",
   "metadata": {},
   "source": [
    "#### `best_LDA_model`"
   ]
  },
  {
   "cell_type": "code",
   "execution_count": 106,
   "id": "444060f8",
   "metadata": {},
   "outputs": [
    {
     "data": {
      "text/plain": [
       "['best_LDA_model.joblib']"
      ]
     },
     "execution_count": 106,
     "metadata": {},
     "output_type": "execute_result"
    }
   ],
   "source": [
    "dump(best_LDA_model, 'best_LDA_model.joblib')"
   ]
  },
  {
   "cell_type": "markdown",
   "id": "f1b0dbe1",
   "metadata": {},
   "source": [
    "---"
   ]
  },
  {
   "cell_type": "code",
   "execution_count": null,
   "id": "e57e4977",
   "metadata": {},
   "outputs": [],
   "source": []
  },
  {
   "cell_type": "code",
   "execution_count": null,
   "id": "40c3ac08",
   "metadata": {},
   "outputs": [],
   "source": []
  },
  {
   "cell_type": "code",
   "execution_count": null,
   "id": "794f63ef",
   "metadata": {},
   "outputs": [],
   "source": []
  }
 ],
 "metadata": {
  "kernelspec": {
   "display_name": "cis432",
   "language": "python",
   "name": "cis432"
  },
  "language_info": {
   "codemirror_mode": {
    "name": "ipython",
    "version": 3
   },
   "file_extension": ".py",
   "mimetype": "text/x-python",
   "name": "python",
   "nbconvert_exporter": "python",
   "pygments_lexer": "ipython3",
   "version": "3.10.2"
  }
 },
 "nbformat": 4,
 "nbformat_minor": 5
}
